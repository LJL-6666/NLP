{
 "cells": [
  {
   "cell_type": "markdown",
   "metadata": {},
   "source": [
    "# TF-IDF"
   ]
  },
  {
   "cell_type": "markdown",
   "metadata": {},
   "source": [
    "根据词频提取出《浅谈能源文化》文章的关键字"
   ]
  },
  {
   "cell_type": "code",
   "execution_count": null,
   "metadata": {},
   "outputs": [],
   "source": [
    "import jieba\n",
    "import pandas as pd\n",
    "# 1、读取文章《浅谈能源文化》\n",
    "with open('../data/浅谈能源文化.txt', 'r') as f:\n",
    "    txt = f.read()\n",
    "# 2、分词\n",
    "txt = txt.split()\n",
    "words = [jieba.lcut(x) for x in txt]\n",
    "# 3、去除停用词\n",
    "with open('../data/stoplist.txt', 'r', encoding='utf-8') as f:\n",
    "    stop = f.read()\n",
    "stop = stop.split()\n",
    "words2 = [[i for i in x if i not in stop] for x in words]\n",
    "# 4、统计词频\n",
    "a = [' '.join(x) for x in words2]\n",
    "b = ' '.join(a)\n",
    "cipin = pd.Series(b.split()).value_counts()\n",
    "# 5、提取词频最多的5个词语作为文章的关键字\n",
    "cipin.index[:5]\n",
    "key_words = cipin.iloc[:5].index\n",
    "print(key_words)"
   ]
  },
  {
   "cell_type": "markdown",
   "metadata": {},
   "source": [
    "改进：根据词频-逆文档概率提取《浅谈能源文化》的关键字"
   ]
  },
  {
   "cell_type": "code",
   "execution_count": null,
   "metadata": {},
   "outputs": [],
   "source": [
    "with open('../data/字典.txt', 'r', encoding='utf-8') as f:\n",
    "    dic = f.readlines()\n",
    "print(dic[:4])\n",
    "dic2 = [i.split()[:2] for i in dic]\n",
    "print(dic2[:4])\n",
    "dic3 = {i[0]:i[1] for i in dic2}"
   ]
  },
  {
   "cell_type": "code",
   "execution_count": null,
   "metadata": {},
   "outputs": [],
   "source": [
    "n = 100000\n",
    "import math\n",
    "word3 = []\n",
    "tf_idf3 = []\n",
    "tf3 = []\n",
    "idf3 = []\n",
    "for (k, w) in zip(cipin[:10], cipin[:10].index):\n",
    "    tf = k\n",
    "    idf = math.log(n/(int(dic3.get(w, 0))+1))\n",
    "    tf_idf = tf*idf\n",
    "    word3.append(w)\n",
    "    tf_idf3.append(tf_idf)\n",
    "    tf3.append(tf)\n",
    "    idf3.append(idf)\n",
    "    print(f'词语 {w} 在文章中的词频为{k}, 在语料库中出现的次数为{dic3.get(w, 0)}，tf-idf是{tf_idf}')"
   ]
  },
  {
   "cell_type": "code",
   "execution_count": null,
   "metadata": {},
   "outputs": [],
   "source": [
    "data = pd.DataFrame({'words':word3, 'tf':tf3, 'idf':idf3, 'tf-idf':tf_idf3})\n",
    "data.sort_values(by='tf-idf', ascending=False)"
   ]
  },
  {
   "cell_type": "markdown",
   "metadata": {},
   "source": [
    "# 文本聚类"
   ]
  },
  {
   "cell_type": "markdown",
   "metadata": {},
   "source": [
    "对手机评论数据进行聚类"
   ]
  },
  {
   "cell_type": "code",
   "execution_count": null,
   "metadata": {},
   "outputs": [],
   "source": [
    "import pandas as pd\n",
    "f = open('../data/vivo数据.csv', encoding='utf-8')\n",
    "data = pd.read_csv(f)\n",
    "data.head()"
   ]
  },
  {
   "cell_type": "code",
   "execution_count": null,
   "metadata": {},
   "outputs": [],
   "source": [
    "content = data['content']\n",
    "content.head()"
   ]
  },
  {
   "cell_type": "markdown",
   "metadata": {},
   "source": [
    "分词"
   ]
  },
  {
   "cell_type": "code",
   "execution_count": null,
   "metadata": {},
   "outputs": [],
   "source": [
    "import jieba\n",
    "content = content.apply(jieba.lcut)\n",
    "content.head()"
   ]
  },
  {
   "cell_type": "markdown",
   "metadata": {},
   "source": [
    "去除停用词"
   ]
  },
  {
   "cell_type": "code",
   "execution_count": null,
   "metadata": {},
   "outputs": [],
   "source": [
    "with open('../data/stoplist.txt', 'r', encoding='utf-8') as f:\n",
    "    stop = f.read()\n",
    "stop = stop.split()\n",
    "content = content.apply(lambda x: [i for i in x if i not in stop])\n",
    "content.head()"
   ]
  },
  {
   "cell_type": "markdown",
   "metadata": {},
   "source": [
    "转换为文本-词条矩阵"
   ]
  },
  {
   "cell_type": "code",
   "execution_count": null,
   "metadata": {},
   "outputs": [],
   "source": [
    "x = content.apply(lambda x: ' '.join(x))\n",
    "y = data['lab']\n",
    "print(x.head(), y.head())"
   ]
  },
  {
   "cell_type": "code",
   "execution_count": null,
   "metadata": {},
   "outputs": [],
   "source": [
    "from sklearn.feature_extraction.text import CountVectorizer\n",
    "cv = CountVectorizer()\n",
    "x_data = cv.fit_transform(x)\n",
    "cv.vocabulary_  # 字典\n",
    "cv.get_feature_names()  # 词条\n",
    "x_data.toarray()"
   ]
  },
  {
   "cell_type": "markdown",
   "metadata": {},
   "source": [
    "使用KMeans聚类"
   ]
  },
  {
   "cell_type": "code",
   "execution_count": null,
   "metadata": {},
   "outputs": [],
   "source": [
    "from sklearn.cluster import KMeans\n",
    "model = KMeans(n_clusters=5).fit(x_data)\n",
    "model.labels_"
   ]
  },
  {
   "cell_type": "code",
   "execution_count": null,
   "metadata": {},
   "outputs": [],
   "source": [
    "y_pre = model.labels_"
   ]
  },
  {
   "cell_type": "markdown",
   "metadata": {},
   "source": [
    "评价聚类效果"
   ]
  },
  {
   "cell_type": "code",
   "execution_count": null,
   "metadata": {},
   "outputs": [],
   "source": [
    "from sklearn.metrics import silhouette_score\n",
    "# help(silhouette_score)\n",
    "silhouette_score(x_data, y_pre)"
   ]
  },
  {
   "cell_type": "code",
   "execution_count": null,
   "metadata": {},
   "outputs": [],
   "source": [
    "for i in range(3, 9):\n",
    "    model = KMeans(n_clusters=i).fit(x_data)\n",
    "    y_pre = model.labels_\n",
    "    print(f'{i} {silhouette_score(x_data, y_pre)}')"
   ]
  },
  {
   "cell_type": "markdown",
   "metadata": {},
   "source": [
    "# 情感分析"
   ]
  },
  {
   "cell_type": "code",
   "execution_count": null,
   "metadata": {},
   "outputs": [],
   "source": []
  },
  {
   "cell_type": "code",
   "execution_count": null,
   "metadata": {},
   "outputs": [],
   "source": []
  },
  {
   "cell_type": "code",
   "execution_count": null,
   "metadata": {},
   "outputs": [],
   "source": []
  },
  {
   "cell_type": "code",
   "execution_count": null,
   "metadata": {},
   "outputs": [],
   "source": []
  },
  {
   "cell_type": "markdown",
   "metadata": {},
   "source": [
    "# 文本分类"
   ]
  },
  {
   "cell_type": "code",
   "execution_count": 22,
   "metadata": {},
   "outputs": [
    {
     "data": {
      "text/html": [
       "<div>\n",
       "<style>\n",
       "    .dataframe thead tr:only-child th {\n",
       "        text-align: right;\n",
       "    }\n",
       "\n",
       "    .dataframe thead th {\n",
       "        text-align: left;\n",
       "    }\n",
       "\n",
       "    .dataframe tbody tr th {\n",
       "        vertical-align: top;\n",
       "    }\n",
       "</style>\n",
       "<table border=\"1\" class=\"dataframe\">\n",
       "  <thead>\n",
       "    <tr style=\"text-align: right;\">\n",
       "      <th></th>\n",
       "      <th>referenceName</th>\n",
       "      <th>nickname</th>\n",
       "      <th>creationTime</th>\n",
       "      <th>content</th>\n",
       "      <th>lab</th>\n",
       "    </tr>\n",
       "  </thead>\n",
       "  <tbody>\n",
       "    <tr>\n",
       "      <th>0</th>\n",
       "      <td>vivo NEX 零界全面屏AI双摄游戏手机 6GB+128GB 宝石红 移动联通电信全网通...</td>\n",
       "      <td>陈***儿</td>\n",
       "      <td>2018-06-26 21:12:24</td>\n",
       "      <td>这指纹是跟我闹着玩吗？另外一个是vivox7plus，太老火了，而且同时在18号买了2部今天...</td>\n",
       "      <td>1</td>\n",
       "    </tr>\n",
       "    <tr>\n",
       "      <th>1</th>\n",
       "      <td>vivo NEX 零界全面屏AI双摄游戏手机 6GB+128GB 宝石红 移动联通电信全网通...</td>\n",
       "      <td>李***e</td>\n",
       "      <td>2018-06-26 08:53:12</td>\n",
       "      <td>等了那么久不会是部坏机吧，右手指纹解锁一直不行，左手可以，但也有解锁不成功，我去</td>\n",
       "      <td>1</td>\n",
       "    </tr>\n",
       "    <tr>\n",
       "      <th>2</th>\n",
       "      <td>vivo NEX 零界全面屏AI双摄游戏手机 6GB+128GB 宝石红 移动联通电信全网通...</td>\n",
       "      <td>伊莎贝尔Emp</td>\n",
       "      <td>2018-07-07 10:43:59</td>\n",
       "      <td>第一次在京东上面买手机，买完就后悔了物流慢也就算了，关键包装也那么简单，当时收到手机的时候，...</td>\n",
       "      <td>1</td>\n",
       "    </tr>\n",
       "    <tr>\n",
       "      <th>3</th>\n",
       "      <td>vivo NEX 零界全面屏AI双摄游戏手机 6GB+128GB 宝石红 移动联通电信全网通...</td>\n",
       "      <td>j***年</td>\n",
       "      <td>2018-07-04 12:12:30</td>\n",
       "      <td>手机刚用2天屏幕就不好用了 在京东买vivo实体店不管退换货还要京东拿走做鉴定太麻烦了真的想...</td>\n",
       "      <td>1</td>\n",
       "    </tr>\n",
       "    <tr>\n",
       "      <th>4</th>\n",
       "      <td>vivo NEX 零界全面屏AI双摄游戏手机 6GB+128GB 宝石红 移动联通电信全网通...</td>\n",
       "      <td>j***2</td>\n",
       "      <td>2018-06-27 01:06:27</td>\n",
       "      <td>25就说可以到手的  结果呢26才拿到手   客服解决不了问题  就只会说抱歉     手机...</td>\n",
       "      <td>1</td>\n",
       "    </tr>\n",
       "  </tbody>\n",
       "</table>\n",
       "</div>"
      ],
      "text/plain": [
       "                                       referenceName nickname  \\\n",
       "0  vivo NEX 零界全面屏AI双摄游戏手机 6GB+128GB 宝石红 移动联通电信全网通...    陈***儿   \n",
       "1  vivo NEX 零界全面屏AI双摄游戏手机 6GB+128GB 宝石红 移动联通电信全网通...    李***e   \n",
       "2  vivo NEX 零界全面屏AI双摄游戏手机 6GB+128GB 宝石红 移动联通电信全网通...  伊莎贝尔Emp   \n",
       "3  vivo NEX 零界全面屏AI双摄游戏手机 6GB+128GB 宝石红 移动联通电信全网通...    j***年   \n",
       "4  vivo NEX 零界全面屏AI双摄游戏手机 6GB+128GB 宝石红 移动联通电信全网通...    j***2   \n",
       "\n",
       "          creationTime                                            content  lab  \n",
       "0  2018-06-26 21:12:24  这指纹是跟我闹着玩吗？另外一个是vivox7plus，太老火了，而且同时在18号买了2部今天...    1  \n",
       "1  2018-06-26 08:53:12           等了那么久不会是部坏机吧，右手指纹解锁一直不行，左手可以，但也有解锁不成功，我去    1  \n",
       "2  2018-07-07 10:43:59  第一次在京东上面买手机，买完就后悔了物流慢也就算了，关键包装也那么简单，当时收到手机的时候，...    1  \n",
       "3  2018-07-04 12:12:30  手机刚用2天屏幕就不好用了 在京东买vivo实体店不管退换货还要京东拿走做鉴定太麻烦了真的想...    1  \n",
       "4  2018-06-27 01:06:27  25就说可以到手的  结果呢26才拿到手   客服解决不了问题  就只会说抱歉     手机...    1  "
      ]
     },
     "execution_count": 22,
     "metadata": {},
     "output_type": "execute_result"
    }
   ],
   "source": [
    "import pandas as pd\n",
    "f = open('../data/vivo数据.csv', encoding='utf-8')\n",
    "data = pd.read_csv(f)\n",
    "data.head()"
   ]
  },
  {
   "cell_type": "code",
   "execution_count": 23,
   "metadata": {},
   "outputs": [
    {
     "data": {
      "text/plain": [
       "0    这指纹是跟我闹着玩吗？另外一个是vivox7plus，太老火了，而且同时在18号买了2部今天...\n",
       "1             等了那么久不会是部坏机吧，右手指纹解锁一直不行，左手可以，但也有解锁不成功，我去\n",
       "2    第一次在京东上面买手机，买完就后悔了物流慢也就算了，关键包装也那么简单，当时收到手机的时候，...\n",
       "3    手机刚用2天屏幕就不好用了 在京东买vivo实体店不管退换货还要京东拿走做鉴定太麻烦了真的想...\n",
       "4    25就说可以到手的  结果呢26才拿到手   客服解决不了问题  就只会说抱歉     手机...\n",
       "Name: content, dtype: object"
      ]
     },
     "execution_count": 23,
     "metadata": {},
     "output_type": "execute_result"
    }
   ],
   "source": [
    "content = data['content']\n",
    "content.head()"
   ]
  },
  {
   "cell_type": "code",
   "execution_count": 24,
   "metadata": {},
   "outputs": [
    {
     "data": {
      "text/plain": [
       "0    [这, 指纹, 是, 跟, 我, 闹着玩, 吗, ？, 另外, 一个, 是, vivox7p...\n",
       "1    [等, 了, 那么, 久, 不会, 是, 部坏机, 吧, ，, 右手, 指纹, 解锁, 一直...\n",
       "2    [第一次, 在, 京东, 上面, 买手机, ，, 买, 完, 就, 后悔, 了, 物流, 慢...\n",
       "3    [手机, 刚用, 2, 天, 屏幕, 就, 不好, 用, 了,  , 在, 京东, 买, v...\n",
       "4    [25, 就, 说, 可以, 到手, 的,  ,  , 结果, 呢, 26, 才, 拿到, ...\n",
       "Name: content, dtype: object"
      ]
     },
     "execution_count": 24,
     "metadata": {},
     "output_type": "execute_result"
    }
   ],
   "source": [
    "import jieba\n",
    "content = content.apply(jieba.lcut)\n",
    "content.head()"
   ]
  },
  {
   "cell_type": "code",
   "execution_count": 25,
   "metadata": {},
   "outputs": [
    {
     "data": {
      "text/plain": [
       "0    [指纹, 闹着玩, vivox7plus, 太, 老火, 18, 号, 买, 部, 只到, ...\n",
       "1                 [久, 部坏机, 右手, 指纹, 解锁, 不行, 左手, 解锁, 成功]\n",
       "2    [第一次, 京东, 买手机, 买, 完, 后悔, 物流, 慢, 关键, 包装, 简单, 收到...\n",
       "3    [手机, 刚用, 天, 屏幕, 不好, 京东, 买, vivo, 实体店, 退换货, 京东,...\n",
       "4    [25, 说, 到手, 26, 拿到, 手, 客服, 解决不了, 只会, 说, 抱歉, 手机...\n",
       "Name: content, dtype: object"
      ]
     },
     "execution_count": 25,
     "metadata": {},
     "output_type": "execute_result"
    }
   ],
   "source": [
    "with open('../data/stoplist.txt', 'r', encoding='utf-8') as f:\n",
    "    stop = f.read()\n",
    "stop = stop.split()\n",
    "stop = stop + ['\\n', ' ']\n",
    "content = content.apply(lambda x: [i for i in x if i not in stop])\n",
    "content.head()"
   ]
  },
  {
   "cell_type": "code",
   "execution_count": 26,
   "metadata": {},
   "outputs": [
    {
     "name": "stdout",
     "output_type": "stream",
     "text": [
      "0     指纹 闹着玩 vivox7plus 太 老火 18 号 买 部 只到 一部 hellip h...\n",
      "1                            久 部坏机 右手 指纹 解锁 不行 左手 解锁 成功\n",
      "2     第一次 京东 买手机 买 完 后悔 物流 慢 关键 包装 简单 收到 手机 装 手机 盒子 ...\n",
      "3     手机 刚用 天 屏幕 不好 京东 买 vivo 实体店 退换货 京东 拿走 做 鉴定 太 麻...\n",
      "4     25 说 到手 26 拿到 手 客服 解决不了 只会 说 抱歉 手机 想象 中要 厚 指纹 ...\n",
      "5                                  触屏 不灵 反应迟钝 app 卡死 再评\n",
      "6     拿到 手 惊艳 iPhone 用户 屏幕 颜色 显示 别扭 开 护眼 模式 舒服 地方 说 ...\n",
      "7     一星 致敬 vivo 自营 碎 屏险 三个 供应商 客服 三个 说法 态度 高冷 发货 时间...\n",
      "8     先说 说 一颗 星 京东 发货 第一批 10 分钟 全款 预定 拖 星期 发货 说好 送 半...\n",
      "9     手机 边框 边框 拐角 手机 屏幕 边框 合拢 缝隙 闪光灯 反光 描述 心情 好多天 后悔...\n",
      "10    完 完 中奖 缝 价位 品控 无语 手机 真的 好看 真 瓶 没得说 满意 屏幕 清晰 xp...\n",
      "Name: content, dtype: object 0    1\n",
      "1    1\n",
      "2    1\n",
      "3    1\n",
      "4    1\n",
      "Name: lab, dtype: int64\n"
     ]
    }
   ],
   "source": [
    "x = content.apply(lambda x: ' '.join(x))\n",
    "y = data['lab']\n",
    "print(x.head(11), y.head())"
   ]
  },
  {
   "cell_type": "code",
   "execution_count": 27,
   "metadata": {},
   "outputs": [
    {
     "data": {
      "text/plain": [
       "array([[0, 0, 0, ..., 0, 0, 0],\n",
       "       [0, 0, 0, ..., 0, 0, 0],\n",
       "       [0, 0, 0, ..., 0, 0, 0],\n",
       "       ...,\n",
       "       [0, 0, 0, ..., 0, 0, 0],\n",
       "       [0, 0, 0, ..., 0, 0, 0],\n",
       "       [0, 0, 0, ..., 0, 0, 0]], dtype=int64)"
      ]
     },
     "execution_count": 27,
     "metadata": {},
     "output_type": "execute_result"
    }
   ],
   "source": [
    "from sklearn.feature_extraction.text import CountVectorizer\n",
    "cv = CountVectorizer()\n",
    "x_data = cv.fit_transform(x)\n",
    "cv.vocabulary_  # 字典\n",
    "cv.get_feature_names()  # 词条\n",
    "x_data.toarray()"
   ]
  },
  {
   "cell_type": "code",
   "execution_count": 28,
   "metadata": {},
   "outputs": [],
   "source": [
    "from sklearn.naive_bayes import GaussianNB\n",
    "from sklearn.model_selection import train_test_split\n",
    "\n",
    "x_train, x_test, y_train, y_test = train_test_split(x_data.toarray(), y, test_size=0.2, random_state=123)\n",
    "model = GaussianNB().fit(x_train, y_train)\n",
    "y_pre = model.predict(x_test)"
   ]
  },
  {
   "cell_type": "code",
   "execution_count": 29,
   "metadata": {},
   "outputs": [
    {
     "name": "stdout",
     "output_type": "stream",
     "text": [
      "[[  9   0   3   1   8]\n",
      " [  1   0   0   0   2]\n",
      " [  0   0   3   0   7]\n",
      " [  0   0   0   9   3]\n",
      " [ 17  10  25  16 367]]\n",
      "             precision    recall  f1-score   support\n",
      "\n",
      "          1       0.33      0.43      0.38        21\n",
      "          2       0.00      0.00      0.00         3\n",
      "          3       0.10      0.30      0.15        10\n",
      "          4       0.35      0.75      0.47        12\n",
      "          5       0.95      0.84      0.89       435\n",
      "\n",
      "avg / total       0.88      0.81      0.84       481\n",
      "\n"
     ]
    }
   ],
   "source": [
    "from sklearn.metrics import confusion_matrix, classification_report\n",
    "print(confusion_matrix(y_test, y_pre))\n",
    "print(classification_report(y_test, y_pre))"
   ]
  },
  {
   "cell_type": "markdown",
   "metadata": {},
   "source": [
    "# 使用FastText分类"
   ]
  },
  {
   "cell_type": "code",
   "execution_count": 69,
   "metadata": {},
   "outputs": [],
   "source": [
    "from sklearn.model_selection import train_test_split\n",
    "x_train, x_test, y_train, y_test = train_test_split(x, y, test_size=.2, random_state=123)"
   ]
  },
  {
   "cell_type": "code",
   "execution_count": 70,
   "metadata": {},
   "outputs": [],
   "source": [
    "with open('../tmp/train.txt', 'w', encoding='utf-8') as f:\n",
    "    for i in x_train.index:\n",
    "        f.write(x_train[i]+ ' __label__' + str(y_train[i]) +'\\n')"
   ]
  },
  {
   "cell_type": "code",
   "execution_count": 71,
   "metadata": {},
   "outputs": [],
   "source": [
    "import fastText\n",
    "classifier = fastText.train_supervised(r'..\\tmp\\train.txt')"
   ]
  },
  {
   "cell_type": "code",
   "execution_count": 72,
   "metadata": {},
   "outputs": [
    {
     "data": {
      "text/plain": [
       "['</s>', '手机', '屏幕', '不错', '摄像头', '指纹', '感觉', '屏', 'vivo', '买', '说', '喜欢']"
      ]
     },
     "execution_count": 72,
     "metadata": {},
     "output_type": "execute_result"
    }
   ],
   "source": [
    "classifier.get_words()[:12]"
   ]
  },
  {
   "cell_type": "code",
   "execution_count": 73,
   "metadata": {},
   "outputs": [
    {
     "data": {
      "text/plain": [
       "['__label__5', '__label__1', '__label__3', '__label__4', '__label__2']"
      ]
     },
     "execution_count": 73,
     "metadata": {},
     "output_type": "execute_result"
    }
   ],
   "source": [
    "classifier.get_labels()[:12]"
   ]
  },
  {
   "cell_type": "code",
   "execution_count": 74,
   "metadata": {},
   "outputs": [],
   "source": [
    "y_pre = classifier.predict(list(x_test))\n",
    "y_pre = [int(x[-1]) for x in y_pre[0]]"
   ]
  },
  {
   "cell_type": "code",
   "execution_count": 75,
   "metadata": {},
   "outputs": [
    {
     "name": "stdout",
     "output_type": "stream",
     "text": [
      "[[  0   4   0   0  17]\n",
      " [  0   0   0   0   3]\n",
      " [  0   0   0   0  10]\n",
      " [  0   0   0   0  12]\n",
      " [  0   0   0   0 435]]\n",
      "             precision    recall  f1-score   support\n",
      "\n",
      "          1       0.00      0.00      0.00        21\n",
      "          2       0.00      0.00      0.00         3\n",
      "          3       0.00      0.00      0.00        10\n",
      "          4       0.00      0.00      0.00        12\n",
      "          5       0.91      1.00      0.95       435\n",
      "\n",
      "avg / total       0.82      0.90      0.86       481\n",
      "\n"
     ]
    },
    {
     "name": "stderr",
     "output_type": "stream",
     "text": [
      "C:\\Users\\45543\\AppData\\Local\\Continuum\\Anaconda3\\lib\\site-packages\\sklearn\\metrics\\classification.py:1135: UndefinedMetricWarning: Precision and F-score are ill-defined and being set to 0.0 in labels with no predicted samples.\n",
      "  'precision', 'predicted', average, warn_for)\n"
     ]
    }
   ],
   "source": [
    "from sklearn.metrics import confusion_matrix, classification_report\n",
    "y_test = list(y_test)\n",
    "print(confusion_matrix(y_test, y_pre))\n",
    "print(classification_report(y_test, y_pre))"
   ]
  },
  {
   "cell_type": "code",
   "execution_count": null,
   "metadata": {},
   "outputs": [],
   "source": []
  }
 ],
 "metadata": {
  "kernelspec": {
   "display_name": "Python 3",
   "language": "python",
   "name": "python3"
  },
  "language_info": {
   "codemirror_mode": {
    "name": "ipython",
    "version": 3
   },
   "file_extension": ".py",
   "mimetype": "text/x-python",
   "name": "python",
   "nbconvert_exporter": "python",
   "pygments_lexer": "ipython3",
   "version": "3.6.6"
  }
 },
 "nbformat": 4,
 "nbformat_minor": 2
}
