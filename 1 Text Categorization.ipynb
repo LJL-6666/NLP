{
 "cells": [
  {
   "cell_type": "markdown",
   "metadata": {},
   "source": [
    "文本挖掘是一个以半结构（如 WEB 网页）或者无结构（如纯文本）的自然语言文本为对象的数据挖掘，是从大规模文本数据集中发现隐藏的、重要的、新颖的、潜在的有用的规律的过程。，直观的说，当数据挖掘的对象完全由文本这种数据类型组成时，这个过程就称为文本挖掘。文本挖掘也称为文本数据挖掘。\n",
    "<img src=a.png height=50% width=60%>"
   ]
  },
  {
   "cell_type": "markdown",
   "metadata": {},
   "source": [
    "# 文本预处理技术"
   ]
  },
  {
   "cell_type": "markdown",
   "metadata": {},
   "source": [
    "## 正则表达式"
   ]
  },
  {
   "cell_type": "code",
   "execution_count": 6,
   "metadata": {
    "scrolled": true
   },
   "outputs": [
    {
     "data": {
      "text/plain": [
       "'The  cake smell good. But it is too .'"
      ]
     },
     "execution_count": 6,
     "metadata": {},
     "output_type": "execute_result"
    }
   ],
   "source": [
    "import re\n",
    "string = 'The small cake smell good. But it is too small.'\n",
    "re.match('small', string)  # 从第一个字符开始查看\n",
    "re.match('The small', string)\n",
    "\n",
    "re.search('small', string)  # 找一个就好\n",
    "\n",
    "re.findall('small', string)  # 找出全部\n",
    "\n",
    "re.sub(pattern='small', repl='big', string=string)  # 替换\n",
    "re.sub('small', '', string)  # 删除"
   ]
  },
  {
   "cell_type": "code",
   "execution_count": 29,
   "metadata": {},
   "outputs": [
    {
     "data": {
      "text/plain": [
       "['small smell sm.ll smll smaall sm3ll smAll smaaaall', 'sm ll']"
      ]
     },
     "execution_count": 29,
     "metadata": {},
     "output_type": "execute_result"
    }
   ],
   "source": [
    "string = 'small smell sm.ll smll smaall sm3ll smAll smaaaall sm\\nll sm ll'\n",
    "\n",
    "re.findall('small', string)\n",
    "re.findall('small|smell', string)\n",
    "re.findall('sm.ll', string)  # 任意字符，除了\\n\n",
    "re.findall('sm[abcde]ll', string)\n",
    "re.findall('sm[a-zA-Z0-9]ll', string)\n",
    "re.findall('sm\\.ll', string)  # 转义\n",
    "\n",
    "re.findall('sm..ll', string)\n",
    "# 量化符\n",
    "re.findall('sm.{2}ll', string)\n",
    "re.findall('sm[a-z]{2,4}ll', string)\n",
    "re.findall('sm[a-z]?ll', string)  # {0,1}\n",
    "re.findall('sm[a-z]+ll', string)  # {1,}\n",
    "re.findall('sm[a-z]*ll', string)  # {0,}\n",
    "re.findall('sm.*ll', string)  # 贪婪特性"
   ]
  },
  {
   "cell_type": "code",
   "execution_count": 28,
   "metadata": {
    "scrolled": true
   },
   "outputs": [
    {
     "name": "stdout",
     "output_type": "stream",
     "text": [
      "HiYangHui\n"
     ]
    }
   ],
   "source": [
    "string = 'My name is YangHui.'\n",
    "s = re.findall('My name is (.+)\\.', string)\n",
    "s\n",
    "print('Hi! ' + s[0])\n",
    "# print('\\nHi!'+ 'YangHui')"
   ]
  },
  {
   "cell_type": "markdown",
   "metadata": {},
   "source": [
    "练习："
   ]
  },
  {
   "cell_type": "code",
   "execution_count": 32,
   "metadata": {},
   "outputs": [
    {
     "data": {
      "text/html": [
       "<div>\n",
       "<style>\n",
       "    .dataframe thead tr:only-child th {\n",
       "        text-align: right;\n",
       "    }\n",
       "\n",
       "    .dataframe thead th {\n",
       "        text-align: left;\n",
       "    }\n",
       "\n",
       "    .dataframe tbody tr th {\n",
       "        vertical-align: top;\n",
       "    }\n",
       "</style>\n",
       "<table border=\"1\" class=\"dataframe\">\n",
       "  <thead>\n",
       "    <tr style=\"text-align: right;\">\n",
       "      <th></th>\n",
       "      <th>Tel</th>\n",
       "      <th>name</th>\n",
       "    </tr>\n",
       "  </thead>\n",
       "  <tbody>\n",
       "    <tr>\n",
       "      <th>0</th>\n",
       "      <td>555-1239</td>\n",
       "      <td>Moe Szyslak</td>\n",
       "    </tr>\n",
       "    <tr>\n",
       "      <th>1</th>\n",
       "      <td>(636) 555-0113</td>\n",
       "      <td>Burns, C.Montgomery</td>\n",
       "    </tr>\n",
       "    <tr>\n",
       "      <th>2</th>\n",
       "      <td>555-6542</td>\n",
       "      <td>Rev. Timothy Lovejoy</td>\n",
       "    </tr>\n",
       "    <tr>\n",
       "      <th>3</th>\n",
       "      <td>555 8904</td>\n",
       "      <td>Ned Flanders</td>\n",
       "    </tr>\n",
       "    <tr>\n",
       "      <th>4</th>\n",
       "      <td>636-555-3226</td>\n",
       "      <td>Simpson,Homer</td>\n",
       "    </tr>\n",
       "    <tr>\n",
       "      <th>5</th>\n",
       "      <td>5553642</td>\n",
       "      <td>Dr. Julius Hibbert</td>\n",
       "    </tr>\n",
       "  </tbody>\n",
       "</table>\n",
       "</div>"
      ],
      "text/plain": [
       "              Tel                  name\n",
       "0        555-1239           Moe Szyslak\n",
       "1  (636) 555-0113   Burns, C.Montgomery\n",
       "2        555-6542  Rev. Timothy Lovejoy\n",
       "3        555 8904          Ned Flanders\n",
       "4    636-555-3226         Simpson,Homer\n",
       "5         5553642    Dr. Julius Hibbert"
      ]
     },
     "execution_count": 32,
     "metadata": {},
     "output_type": "execute_result"
    }
   ],
   "source": [
    "rawdata = '555-1239Moe Szyslak(636) 555-0113Burns, C.Montgomery555-6542Rev. Timothy Lovejoy555 8904Ned Flanders636-555-3226Simpson,Homer5553642Dr. Julius Hibbert'\n",
    "tel = re.findall('\\(?[0-9]{0,3}\\)?[ -]?[0-9]{3}[ -]?[0-9]{4}', rawdata)\n",
    "name = re.findall('[A-Z][a-zA-Z ,.]+', rawdata)\n",
    "import pandas as pd\n",
    "pd.DataFrame({'name': name, 'Tel': tel})"
   ]
  },
  {
   "cell_type": "code",
   "execution_count": 34,
   "metadata": {
    "scrolled": true
   },
   "outputs": [
    {
     "data": {
      "text/plain": [
       "['smell', 'sm\\nll']"
      ]
     },
     "execution_count": 34,
     "metadata": {},
     "output_type": "execute_result"
    }
   ],
   "source": [
    "re.findall('sm[^a]ll', 'small smell sm\\nll')"
   ]
  },
  {
   "cell_type": "markdown",
   "metadata": {},
   "source": [
    "## 分词"
   ]
  },
  {
   "cell_type": "code",
   "execution_count": 35,
   "metadata": {},
   "outputs": [],
   "source": [
    "sentence = '今天我来到北京清华大学'"
   ]
  },
  {
   "cell_type": "markdown",
   "metadata": {},
   "source": [
    "### 最大正向匹配法"
   ]
  },
  {
   "cell_type": "code",
   "execution_count": 40,
   "metadata": {},
   "outputs": [
    {
     "name": "stdout",
     "output_type": "stream",
     "text": [
      "['今天', '我', '来到', '北京', '清华大学']\n"
     ]
    }
   ],
   "source": [
    "sentence = '今天我来到北京清华大学'\n",
    "words = []\n",
    "max_len = 5\n",
    "\n",
    "with open('../data/字典.txt', 'r', encoding='utf-8') as f:\n",
    "    txt = f.readlines()\n",
    "my_dict = [i.split()[0] for i in txt]\n",
    "my_dict[:3]\n",
    "\n",
    "while len(sentence) != 0:\n",
    "    tmp = sentence[:max_len]\n",
    "    while tmp not in my_dict and len(tmp) > 1:\n",
    "        tmp = tmp[:-1]\n",
    "    words.append(tmp)\n",
    "    sentence = sentence[len(tmp):]\n",
    "print(words)"
   ]
  },
  {
   "cell_type": "markdown",
   "metadata": {},
   "source": [
    "### 最大逆向匹配法（练习）"
   ]
  },
  {
   "cell_type": "code",
   "execution_count": null,
   "metadata": {},
   "outputs": [],
   "source": [
    "sentence = '今天我来到北京清华大学'\n",
    "max_len = 5\n",
    "\n",
    "words = []\n",
    "while len(sentence) != 0:\n",
    "    tmp = sentence[-max_len:]\n",
    "    while tmp not in my_dict and len(tmp) > 1:\n",
    "        tmp = tmp[1:]\n",
    "    words = [tmp] + words\n",
    "    sentence = sentence[:-len(tmp)]\n",
    "print(words)"
   ]
  },
  {
   "cell_type": "markdown",
   "metadata": {},
   "source": [
    "### HMM"
   ]
  },
  {
   "cell_type": "code",
   "execution_count": 41,
   "metadata": {},
   "outputs": [],
   "source": [
    "p_start = {'good':0.63, 'normal':0.17, 'bad':0.2}  # 初始概率矩阵\n",
    "p_emit = {\n",
    "    'good':{'working':0.05, 'travel':0.35, 'shopping':0.35, 'running':0.25},\n",
    "    'normal':{'working':0.25, 'travel':0.25, 'shopping':0.25, 'running':0.25},\n",
    "    'bad':{'working':0.6, 'travel':0.2, 'shopping':0.05, 'running':0.15}\n",
    "}  # 发射概率矩阵\n",
    "p_trans = {\n",
    "    'good':{'good':0.5, 'normal':0.375, 'bad':0.125},\n",
    "    'normal':{'good':0.25, 'normal':0.125, 'bad':0.625},\n",
    "    'bad':{'good':0.25, 'normal':0.375, 'bad':0.375} }  # 转移概率矩阵"
   ]
  },
  {
   "cell_type": "markdown",
   "metadata": {},
   "source": [
    "1、穷举法"
   ]
  },
  {
   "cell_type": "code",
   "execution_count": null,
   "metadata": {},
   "outputs": [],
   "source": [
    "obs = ['working', 'shopping', 'travel']\n",
    "states = ['good', 'normal', 'bad']\n",
    "V = [{}]\n",
    "\n",
    "# 初始化\n",
    "for y in states:\n",
    "    V[0][y] = p_start[y] * p_emit[y][obs[0]]\n",
    "print(V)\n",
    "\n",
    "for t in range(1, len(obs)):\n",
    "    V.append({})\n",
    "    for y in states:\n",
    "        for i, j in V[t-1].items():\n",
    "            pre_state = i.split('-')[-1]\n",
    "            V[t][i+'-'+y] = j * p_trans[pre_state][y] * p_emit[y][obs[t]]\n",
    "print(sum([len(i) for i in V]))\n",
    "\n",
    "(prob, path) = max((j, i) for i,j in V[-1].items())\n",
    "print(f'观察状态连续为{obs}, 心情可能是{path}, 概率为{prob}')"
   ]
  },
  {
   "cell_type": "markdown",
   "metadata": {},
   "source": [
    "2、维特比算法"
   ]
  },
  {
   "cell_type": "code",
   "execution_count": 46,
   "metadata": {},
   "outputs": [
    {
     "name": "stdout",
     "output_type": "stream",
     "text": [
      "[{'good': ['good'], 'normal': ['normal'], 'bad': ['bad']}]\n",
      "[{'good': 0.0315, 'normal': 0.0425, 'bad': 0.12}]\n",
      "{'good': 0.0018374999999999997, 'normal': 0.000984375, 'bad': 0.00140625}\n"
     ]
    },
    {
     "data": {
      "text/plain": [
       "0.0018374999999999997"
      ]
     },
     "execution_count": 46,
     "metadata": {},
     "output_type": "execute_result"
    }
   ],
   "source": [
    "obs = ['working', 'shopping', 'travel']\n",
    "states = ['good', 'normal', 'bad']\n",
    "\n",
    "V = [{}]  # 储存节点和对应概率\n",
    "path = [{}]\n",
    "\n",
    "# 初始化\n",
    "for y in states:\n",
    "    V[0][y] = p_start[y] * p_emit[y][obs[0]]\n",
    "    path[0][y] = [y]\n",
    "print(path)\n",
    "print(V)\n",
    "\n",
    "for t in range(1, len(obs)):\n",
    "    V.append({})\n",
    "    path.append({})\n",
    "    for y in states:\n",
    "        em_p = p_emit[y][obs[t]]\n",
    "        (prob, state) = max((V[t-1][y0]*p_trans[y0][y]*em_p, y0) for y0 in states)\n",
    "        V[t][y] = prob\n",
    "        path[t][y] = path[t-1][state] + [y]\n",
    "print(V[-1])\n",
    "(prob, last_state) = max((j, i) for i, j in V[-1].items())\n",
    "path[-1][last_state]\n",
    "prob"
   ]
  },
  {
   "cell_type": "markdown",
   "metadata": {},
   "source": [
    "3、HMM应用：分词"
   ]
  },
  {
   "cell_type": "code",
   "execution_count": null,
   "metadata": {},
   "outputs": [],
   "source": []
  },
  {
   "cell_type": "markdown",
   "metadata": {},
   "source": [
    "### jieba分词"
   ]
  },
  {
   "cell_type": "code",
   "execution_count": null,
   "metadata": {},
   "outputs": [],
   "source": []
  },
  {
   "cell_type": "markdown",
   "metadata": {
    "heading_collapsed": true
   },
   "source": [
    "## 去除停用词"
   ]
  },
  {
   "cell_type": "markdown",
   "metadata": {
    "heading_collapsed": true
   },
   "source": [
    "## 绘制词云"
   ]
  },
  {
   "cell_type": "markdown",
   "metadata": {
    "heading_collapsed": true
   },
   "source": [
    "# 文本向量表示"
   ]
  },
  {
   "cell_type": "markdown",
   "metadata": {
    "hidden": true
   },
   "source": [
    "## 词频"
   ]
  },
  {
   "cell_type": "markdown",
   "metadata": {
    "hidden": true
   },
   "source": [
    "## TF-IDF值"
   ]
  },
  {
   "cell_type": "markdown",
   "metadata": {
    "heading_collapsed": true
   },
   "source": [
    "# 常用文本分类器"
   ]
  },
  {
   "cell_type": "markdown",
   "metadata": {
    "hidden": true
   },
   "source": [
    "## kNN"
   ]
  },
  {
   "cell_type": "markdown",
   "metadata": {
    "hidden": true
   },
   "source": [
    "## Naive Bayes"
   ]
  },
  {
   "cell_type": "markdown",
   "metadata": {
    "hidden": true
   },
   "source": [
    "## SVM"
   ]
  },
  {
   "cell_type": "markdown",
   "metadata": {
    "heading_collapsed": true
   },
   "source": [
    "# 模型评估"
   ]
  },
  {
   "cell_type": "code",
   "execution_count": null,
   "metadata": {
    "hidden": true
   },
   "outputs": [],
   "source": []
  }
 ],
 "metadata": {
  "kernelspec": {
   "display_name": "Python 3",
   "language": "python",
   "name": "python3"
  },
  "language_info": {
   "codemirror_mode": {
    "name": "ipython",
    "version": 3
   },
   "file_extension": ".py",
   "mimetype": "text/x-python",
   "name": "python",
   "nbconvert_exporter": "python",
   "pygments_lexer": "ipython3",
   "version": "3.6.6"
  },
  "toc": {
   "base_numbering": 1,
   "nav_menu": {},
   "number_sections": true,
   "sideBar": true,
   "skip_h1_title": false,
   "title_cell": "Table of Contents",
   "title_sidebar": "Contents",
   "toc_cell": false,
   "toc_position": {},
   "toc_section_display": true,
   "toc_window_display": false
  }
 },
 "nbformat": 4,
 "nbformat_minor": 2
}
