{
 "cells": [
  {
   "cell_type": "markdown",
   "metadata": {},
   "source": [
    "### 正向最大匹配法"
   ]
  },
  {
   "cell_type": "code",
   "execution_count": 5,
   "metadata": {},
   "outputs": [],
   "source": [
    "words_dic=['今天','天天','天气','真不错','不错','啊','哈哈哈哈哈']"
   ]
  },
  {
   "cell_type": "code",
   "execution_count": 6,
   "metadata": {},
   "outputs": [
    {
     "name": "stdout",
     "output_type": "stream",
     "text": [
      "['今天', '天气', '真不错', '啊', '，', '适', '合', '出', '去', '旅', '游']\n"
     ]
    }
   ],
   "source": [
    "def cut_words(split_sentence,words_dic):\n",
    "    #统计词典中最长的词\n",
    "    max_length = max(len(word) for word in words_dic)\n",
    "    sentence = split_sentence.strip() ## 简单清理一下\n",
    "    #统计序列长度\n",
    "    words_length = len(sentence) ## 在第二个循环的时候，我需要不停的和字典最大长度比较，取最小值作为基线\n",
    "    #存储切分好的词语\n",
    "    MM_result = []\n",
    "    while words_length > 0: ## 第二个循环，找到一个之后，循环的去找下一个符合要求的\n",
    "        max_cut_length = min(max_length, words_length)\n",
    "        subSentence = sentence[0 : max_cut_length]\n",
    "        while max_cut_length > 0: ## 第一个循环，迭代找到符号字典的\n",
    "            if subSentence in words_dic:\n",
    "                MM_result.append(subSentence)\n",
    "                break\n",
    "            elif max_cut_length == 1:\n",
    "                MM_result.append(subSentence)\n",
    "                break\n",
    "            else:\n",
    "                max_cut_length = max_cut_length -1\n",
    "                subSentence = subSentence[0:max_cut_length]\n",
    "        sentence = sentence[max_cut_length:]\n",
    "        words_length = words_length - max_cut_length\n",
    "    return MM_result\n",
    "input_str=\"今天天气真不错啊，适合出去旅游\"\n",
    "bmm_word_list = cut_words(input_str, words_dic)\n",
    "print(bmm_word_list)"
   ]
  },
  {
   "cell_type": "markdown",
   "metadata": {},
   "source": [
    "### 逆向最大匹配法"
   ]
  },
  {
   "cell_type": "code",
   "execution_count": 7,
   "metadata": {},
   "outputs": [],
   "source": [
    "def cut_words_n(raw_sentence,words_dic):\n",
    "    #统计词典中词的最长长度\n",
    "    max_length = max(len(word) for word in words_dic)\n",
    "    sentence = raw_sentence.strip()\n",
    "    #统计序列长度\n",
    "    words_length = len(sentence)\n",
    "    #存储切分出来的词语\n",
    "    RMM_result = []\n",
    "    #判断是否需要继续切词\n",
    "    while words_length > 0:\n",
    "        max_cut_length = min(max_length, words_length)\n",
    "        subSentence = sentence[-max_cut_length:]\n",
    "        while max_cut_length > 0:\n",
    "            if subSentence in words_dic:\n",
    "                RMM_result.append(subSentence)\n",
    "                break\n",
    "            elif max_cut_length == 1:\n",
    "                RMM_result.append(subSentence)\n",
    "                break\n",
    "            else:\n",
    "                max_cut_length = max_cut_length -1\n",
    "                subSentence = subSentence[-max_cut_length:]\n",
    "        sentence = sentence[0:-max_cut_length]\n",
    "        words_length = words_length -max_cut_length\n",
    "    RMM_result.reverse()\n",
    "    return  RMM_result\n"
   ]
  },
  {
   "cell_type": "code",
   "execution_count": 8,
   "metadata": {},
   "outputs": [
    {
     "name": "stdout",
     "output_type": "stream",
     "text": [
      "['今天', '天气', '真不错', '啊', '，', '适', '合', '出', '去', '旅', '游']\n"
     ]
    }
   ],
   "source": [
    "input_str=\"今天天气真不错啊，适合出去旅游\"\n",
    "bmm_word_list = cut_words_n(input_str, words_dic)\n",
    "print(bmm_word_list)"
   ]
  },
  {
   "cell_type": "code",
   "execution_count": 9,
   "metadata": {},
   "outputs": [],
   "source": [
    "#案例\n",
    "dic=['研究','研究生','生命','命','的','起源']"
   ]
  },
  {
   "cell_type": "code",
   "execution_count": 10,
   "metadata": {},
   "outputs": [
    {
     "name": "stdout",
     "output_type": "stream",
     "text": [
      "['研究', '生命', '的', '起源']\n"
     ]
    }
   ],
   "source": [
    "#逆向\n",
    "input_str=\"研究生命的起源\"\n",
    "rmm_word_list = cut_words_n(input_str, dic)\n",
    "print(rmm_word_list)"
   ]
  },
  {
   "cell_type": "code",
   "execution_count": 11,
   "metadata": {},
   "outputs": [
    {
     "name": "stdout",
     "output_type": "stream",
     "text": [
      "['研究生', '命', '的', '起源']\n"
     ]
    }
   ],
   "source": [
    "#正向\n",
    "input_str=\"研究生命的起源\"\n",
    "mm_word_list = cut_words(input_str, dic)\n",
    "print(mm_word_list)"
   ]
  },
  {
   "cell_type": "markdown",
   "metadata": {},
   "source": [
    "## 双向"
   ]
  },
  {
   "cell_type": "code",
   "execution_count": 12,
   "metadata": {},
   "outputs": [],
   "source": [
    "#算法思想:\n",
    "        #1. 如果正反向分词结果词数不同，则取分词数量较少的那个\n",
    "        #2. 如果分词结果词数相同：\n",
    "            #2.1 分词结果相同，说明没有歧义，可返回任意一个\n",
    "            #2.2 分词结果不同，返回其中单字较少的那个\n",
    "    #return:\n",
    "        #1.词数不同返回词数较少的那个\n",
    "        #2.词典结果相同，返回任意一个(MM_result)\n",
    "        #3.词数相同但是词典结果不同，返回单字最少的那个"
   ]
  },
  {
   "cell_type": "code",
   "execution_count": 13,
   "metadata": {},
   "outputs": [],
   "source": [
    "def get_best_matching_result(MM_result, RMM_result):\n",
    "    if len(MM_result) != len(RMM_result):\n",
    "        # 如果两个结果词数不同，返回词数较少的那个\n",
    "        return MM_result if (len(MM_result) < len(RMM_result)) else RMM_result\n",
    "    else:\n",
    "        if MM_result == RMM_result:\n",
    "            # 因为RMM的结果是取反了的，所以可以直接匹配\n",
    "            # 词典结果相同，返回任意一个\n",
    "            return MM_result\n",
    "        else:\n",
    "            # 词数相同但是词典结果不同，返回单字最少的那个\n",
    "            MM_word_1 = 0\n",
    "            RMM_word_1 = 0\n",
    "            for word in MM_result:\n",
    "                # 判断正向匹配结果中单字出现的词数\n",
    "                if len(word) == 1:\n",
    "                    MM_word_1 += 1\n",
    "            for word in RMM_result:\n",
    "                # 判断逆向匹配结果中单字出现的词数\n",
    "                if len(word) == 1:\n",
    "                    RMM_word_1 += 1\n",
    "            return MM_result if (MM_word_1 < RMM_word_1) else RMM_result"
   ]
  },
  {
   "cell_type": "code",
   "execution_count": 14,
   "metadata": {},
   "outputs": [
    {
     "data": {
      "text/plain": [
       "['研究', '生命', '的', '起源']"
      ]
     },
     "execution_count": 14,
     "metadata": {},
     "output_type": "execute_result"
    }
   ],
   "source": [
    "get_best_matching_result(mm_word_list,rmm_word_list)"
   ]
  },
  {
   "cell_type": "code",
   "execution_count": null,
   "metadata": {},
   "outputs": [],
   "source": []
  }
 ],
 "metadata": {
  "hide_input": false,
  "kernelspec": {
   "display_name": "Python 3",
   "language": "python",
   "name": "python3"
  },
  "language_info": {
   "codemirror_mode": {
    "name": "ipython",
    "version": 3
   },
   "file_extension": ".py",
   "mimetype": "text/x-python",
   "name": "python",
   "nbconvert_exporter": "python",
   "pygments_lexer": "ipython3",
   "version": "3.8.5"
  },
  "latex_envs": {
   "LaTeX_envs_menu_present": true,
   "autoclose": false,
   "autocomplete": true,
   "bibliofile": "biblio.bib",
   "cite_by": "apalike",
   "current_citInitial": 1,
   "eqLabelWithNumbers": true,
   "eqNumInitial": 1,
   "hotkeys": {
    "equation": "Ctrl-E",
    "itemize": "Ctrl-I"
   },
   "labels_anchors": false,
   "latex_user_defs": false,
   "report_style_numbering": false,
   "user_envs_cfg": false
  },
  "nbTranslate": {
   "displayLangs": [
    "*"
   ],
   "hotkey": "alt-t",
   "langInMainMenu": true,
   "sourceLang": "en",
   "targetLang": "fr",
   "useGoogleTranslate": true
  },
  "toc": {
   "base_numbering": 1,
   "nav_menu": {},
   "number_sections": true,
   "sideBar": true,
   "skip_h1_title": false,
   "title_cell": "Table of Contents",
   "title_sidebar": "Contents",
   "toc_cell": false,
   "toc_position": {},
   "toc_section_display": true,
   "toc_window_display": false
  },
  "varInspector": {
   "cols": {
    "lenName": 16,
    "lenType": 16,
    "lenVar": 40
   },
   "kernels_config": {
    "python": {
     "delete_cmd_postfix": "",
     "delete_cmd_prefix": "del ",
     "library": "var_list.py",
     "varRefreshCmd": "print(var_dic_list())"
    },
    "r": {
     "delete_cmd_postfix": ") ",
     "delete_cmd_prefix": "rm(",
     "library": "var_list.r",
     "varRefreshCmd": "cat(var_dic_list()) "
    }
   },
   "types_to_exclude": [
    "module",
    "function",
    "builtin_function_or_method",
    "instance",
    "_Feature"
   ],
   "window_display": false
  }
 },
 "nbformat": 4,
 "nbformat_minor": 2
}
