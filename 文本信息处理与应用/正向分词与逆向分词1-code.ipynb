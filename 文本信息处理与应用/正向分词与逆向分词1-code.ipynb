{
 "cells": [
  {
   "cell_type": "markdown",
   "metadata": {},
   "source": [
    "### 正向最大匹配法"
   ]
  },
  {
   "cell_type": "code",
   "execution_count": 1,
   "metadata": {},
   "outputs": [],
   "source": [
    "words_dic=['今天','天天','天气','真不错','不错','啊','哈哈哈哈哈']"
   ]
  },
  {
   "cell_type": "code",
   "execution_count": 2,
   "metadata": {},
   "outputs": [
    {
     "name": "stdout",
     "output_type": "stream",
     "text": [
      "['今天', '天气', '真不错', '啊', '，', '适', '合', '出', '去', '旅', '游']\n"
     ]
    }
   ],
   "source": [
    "def cut_words(split_sentence,words_dic):\n",
    "    #统计词典中最长的词\n",
    "    max_length = max(len(word) for word in words_dic)\n",
    "    sentence = split_sentence.strip() ## 简单清理一下\n",
    "    #统计序列长度\n",
    "    words_length = len(sentence) ## 在第二个循环的时候，我需要不停的和字典最大长度比较，取最小值作为基线\n",
    "    #存储切分好的词语\n",
    "    MM_result = []\n",
    "    while words_length > 0: ## 第二个循环，找到一个之后，循环的去找下一个符合要求的\n",
    "        max_cut_length = min(max_length, words_length)\n",
    "        subSentence = sentence[0 : max_cut_length]\n",
    "        while max_cut_length > 0: ## 第一个循环，迭代找到符号字典的\n",
    "            if subSentence in words_dic:\n",
    "                MM_result.append(subSentence)\n",
    "                break\n",
    "            elif max_cut_length == 1:\n",
    "                MM_result.append(subSentence)\n",
    "                break\n",
    "            else:\n",
    "                max_cut_length = max_cut_length -1\n",
    "                subSentence = subSentence[0:max_cut_length]\n",
    "        sentence = sentence[max_cut_length:]\n",
    "        words_length = words_length - max_cut_length\n",
    "    return MM_result\n",
    "input_str=\"今天天气真不错啊，适合出去旅游\"\n",
    "bmm_word_list = cut_words(input_str, words_dic)\n",
    "print(bmm_word_list)"
   ]
  },
  {
   "cell_type": "markdown",
   "metadata": {},
   "source": [
    "### 逆向最大匹配法"
   ]
  },
  {
   "cell_type": "code",
   "execution_count": 3,
   "metadata": {},
   "outputs": [],
   "source": [
    "def cut_words_n(raw_sentence,words_dic):\n",
    "    #统计词典中词的最长长度\n",
    "    max_length = max(len(word) for word in words_dic)\n",
    "    sentence = raw_sentence.strip()\n",
    "    #统计序列长度\n",
    "    words_length = len(sentence)\n",
    "    #存储切分出来的词语\n",
    "    RMM_result = []\n",
    "    #判断是否需要继续切词\n",
    "    while words_length > 0:\n",
    "        max_cut_length = min(max_length, words_length)\n",
    "        subSentence = sentence[-max_cut_length:]\n",
    "        while max_cut_length > 0:\n",
    "            if subSentence in words_dic:\n",
    "                RMM_result.append(subSentence)\n",
    "                break\n",
    "            elif max_cut_length == 1:\n",
    "                RMM_result.append(subSentence)\n",
    "                break\n",
    "            else:\n",
    "                max_cut_length = max_cut_length -1\n",
    "                subSentence = subSentence[-max_cut_length:]\n",
    "        sentence = sentence[0:-max_cut_length]\n",
    "        words_length = words_length -max_cut_length\n",
    "    RMM_result.reverse()\n",
    "    return  RMM_result\n"
   ]
  },
  {
   "cell_type": "code",
   "execution_count": 4,
   "metadata": {},
   "outputs": [
    {
     "name": "stdout",
     "output_type": "stream",
     "text": [
      "['今天', '天气', '真不错', '啊', '，', '适', '合', '出', '去', '旅', '游']\n"
     ]
    }
   ],
   "source": [
    "input_str=\"今天天气真不错啊，适合出去旅游\"\n",
    "bmm_word_list = cut_words_n(input_str, words_dic)\n",
    "print(bmm_word_list)"
   ]
  },
  {
   "cell_type": "code",
   "execution_count": 9,
   "metadata": {},
   "outputs": [],
   "source": [
    "#案例\n",
    "dic=['研究','研究生','生命','命','的','起源']"
   ]
  },
  {
   "cell_type": "code",
   "execution_count": 10,
   "metadata": {},
   "outputs": [
    {
     "name": "stdout",
     "output_type": "stream",
     "text": [
      "['研究', '生命', '的', '起源']\n"
     ]
    }
   ],
   "source": [
    "#逆向\n",
    "input_str=\"研究生命的起源\"\n",
    "rmm_word_list = cut_words_n(input_str, dic)\n",
    "print(rmm_word_list)"
   ]
  },
  {
   "cell_type": "code",
   "execution_count": 11,
   "metadata": {},
   "outputs": [
    {
     "name": "stdout",
     "output_type": "stream",
     "text": [
      "['研究生', '命', '的', '起源']\n"
     ]
    }
   ],
   "source": [
    "#正向\n",
    "input_str=\"研究生命的起源\"\n",
    "mm_word_list = cut_words(input_str, dic)\n",
    "print(mm_word_list)"
   ]
  },
  {
   "cell_type": "code",
   "execution_count": null,
   "metadata": {},
   "outputs": [],
   "source": []
  }
 ],
 "metadata": {
  "hide_input": false,
  "kernelspec": {
   "display_name": "Python 3",
   "language": "python",
   "name": "python3"
  },
  "language_info": {
   "codemirror_mode": {
    "name": "ipython",
    "version": 3
   },
   "file_extension": ".py",
   "mimetype": "text/x-python",
   "name": "python",
   "nbconvert_exporter": "python",
   "pygments_lexer": "ipython3",
   "version": "3.7.6"
  },
  "toc": {
   "base_numbering": 1,
   "nav_menu": {},
   "number_sections": true,
   "sideBar": true,
   "skip_h1_title": false,
   "title_cell": "Table of Contents",
   "title_sidebar": "Contents",
   "toc_cell": false,
   "toc_position": {},
   "toc_section_display": true,
   "toc_window_display": false
  }
 },
 "nbformat": 4,
 "nbformat_minor": 2
}
