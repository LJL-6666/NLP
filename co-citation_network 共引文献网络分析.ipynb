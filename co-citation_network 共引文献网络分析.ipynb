{
 "cells": [
  {
   "cell_type": "code",
   "execution_count": 1,
   "metadata": {
    "ExecuteTime": {
     "end_time": "2020-08-28T09:25:29.676918Z",
     "start_time": "2020-08-28T09:25:14.791326Z"
    }
   },
   "outputs": [
    {
     "name": "stderr",
     "output_type": "stream",
     "text": [
      "\n",
      "Bad key \"text.kerning_factor\" on line 4 in\n",
      "E:\\Anaconda3\\lib\\site-packages\\matplotlib\\mpl-data\\stylelib\\_classic_test_patch.mplstyle.\n",
      "You probably need to get an updated matplotlibrc file from\n",
      "https://github.com/matplotlib/matplotlib/blob/v3.1.3/matplotlibrc.template\n",
      "or from the matplotlib source distribution\n"
     ]
    }
   ],
   "source": [
    "import networkx as nx#复杂网络分析库\n",
    "import pandas as pd\n",
    "import numpy as np\n",
    "import matplotlib.pyplot as plt"
   ]
  },
  {
   "cell_type": "code",
   "execution_count": 2,
   "metadata": {
    "ExecuteTime": {
     "end_time": "2020-08-28T09:26:02.916567Z",
     "start_time": "2020-08-28T09:26:02.472502Z"
    }
   },
   "outputs": [],
   "source": [
    "xls = pd.ExcelFile(r'G:/CDO/知网研学/CNKI-analysis-master/dependence/知网数据.xls')#读取xls表格"
   ]
  },
  {
   "cell_type": "code",
   "execution_count": 3,
   "metadata": {
    "ExecuteTime": {
     "end_time": "2020-08-28T09:26:50.066528Z",
     "start_time": "2020-08-28T09:26:49.975521Z"
    }
   },
   "outputs": [],
   "source": [
    "readf = pd.read_excel(xls,'Sheet1')#读取第一个表"
   ]
  },
  {
   "cell_type": "code",
   "execution_count": 4,
   "metadata": {
    "ExecuteTime": {
     "end_time": "2020-08-28T09:28:29.782385Z",
     "start_time": "2020-08-28T09:28:29.703473Z"
    }
   },
   "outputs": [],
   "source": [
    "frame = readf[readf['共引文献'].notnull()]#如果关键词那一列非空，读取所有数据 "
   ]
  },
  {
   "cell_type": "code",
   "execution_count": 5,
   "metadata": {
    "ExecuteTime": {
     "end_time": "2020-08-28T09:28:38.469002Z",
     "start_time": "2020-08-28T09:28:38.459043Z"
    }
   },
   "outputs": [],
   "source": [
    "keywords = []#关键词列表，里面记录了所有的关键词，没有重复\n",
    "for keyword in frame['共引文献']:#分隔关键词，并加入到列表中，去重\n",
    "    if ',' in keyword:\n",
    "        temp = keyword.split(',')\n",
    "        for x in temp:\n",
    "            if x not in keywords:\n",
    "                keywords.append(x)\n",
    "    elif ';' in keyword:\n",
    "        temp = keyword.split(';')\n",
    "        for x in temp:\n",
    "            if x not in keywords:\n",
    "                keywords.append(x)\n",
    "    else:\n",
    "        if keyword not in keywords:\n",
    "            keywords.append(keyword)"
   ]
  },
  {
   "cell_type": "code",
   "execution_count": 6,
   "metadata": {
    "ExecuteTime": {
     "end_time": "2020-08-28T09:28:46.311915Z",
     "start_time": "2020-08-28T09:28:46.219390Z"
    }
   },
   "outputs": [],
   "source": [
    "df = pd.DataFrame(index=frame['序号'],columns=keywords)    #建立以标题为行，关键词为列的DataFrame矩阵\n",
    "df.index.name='序号'\n",
    "df.columns.name='共引文献' "
   ]
  },
  {
   "cell_type": "code",
   "execution_count": 7,
   "metadata": {
    "ExecuteTime": {
     "end_time": "2020-08-28T09:28:52.772301Z",
     "start_time": "2020-08-28T09:28:50.077352Z"
    }
   },
   "outputs": [],
   "source": [
    "for row in frame['序号']:#将这一篇文献所拥有的关键词在矩阵中标记为1\n",
    "    # print(row)\n",
    "    for keyword in df.columns:\n",
    "        if keyword in frame.loc[row]['共引文献']:\n",
    "            #print(keyword)\n",
    "            df.loc[row][keyword] = 1  "
   ]
  },
  {
   "cell_type": "code",
   "execution_count": 8,
   "metadata": {
    "ExecuteTime": {
     "end_time": "2020-08-28T09:29:05.124365Z",
     "start_time": "2020-08-28T09:29:05.032116Z"
    }
   },
   "outputs": [],
   "source": [
    "df = df.fillna(0)#填充空值 "
   ]
  },
  {
   "cell_type": "code",
   "execution_count": 9,
   "metadata": {
    "ExecuteTime": {
     "end_time": "2020-08-28T09:29:12.970231Z",
     "start_time": "2020-08-28T09:29:12.903769Z"
    }
   },
   "outputs": [],
   "source": [
    "data = df.values.T.dot(df.values)\n",
    "#建立关键词之间的相关性，边的长度为相关性，在这里是将两个df点乘，df.values是按行读取值\n",
    "#print(df.values)#这个时候data其实是关联度 "
   ]
  },
  {
   "cell_type": "code",
   "execution_count": 10,
   "metadata": {
    "ExecuteTime": {
     "end_time": "2020-08-28T09:29:18.113854Z",
     "start_time": "2020-08-28T09:29:17.936400Z"
    }
   },
   "outputs": [
    {
     "name": "stdout",
     "output_type": "stream",
     "text": [
      "                                 ['基于区块链技术视角下未来财务会计发展方向研究'  \\\n",
      "['基于区块链技术视角下未来财务会计发展方向研究'                               30   \n",
      " '基于区块链理念探索“一带一路”区域的新零售模式'                              30   \n",
      " '收集个人信息的电子合同中格式条款与强制缔约的问题研究'                           30   \n",
      " '区块链智联世界:去中心化的信用中介2.0'                                 30   \n",
      " '我国互联网金融监管理论研究及现状分析'                                   30   \n",
      "...                                                    ...   \n",
      " '基于结构方程模型的智慧社区购买意愿影响因素研究'                               0   \n",
      " '台湾智慧社区发展的最新实践'                                         0   \n",
      " '面向智慧城市的社区信息化管理研究'                                      0   \n",
      " '智慧社区运营管理体系及平台构建研究——基于利益相关者视角'                          0   \n",
      " '中国城市社区管理创新模式分析']                                       0   \n",
      "\n",
      "                                  '基于区块链理念探索“一带一路”区域的新零售模式'  \\\n",
      "['基于区块链技术视角下未来财务会计发展方向研究'                                30   \n",
      " '基于区块链理念探索“一带一路”区域的新零售模式'                               60   \n",
      " '收集个人信息的电子合同中格式条款与强制缔约的问题研究'                            30   \n",
      " '区块链智联世界:去中心化的信用中介2.0'                                  30   \n",
      " '我国互联网金融监管理论研究及现状分析'                                    30   \n",
      "...                                                     ...   \n",
      " '基于结构方程模型的智慧社区购买意愿影响因素研究'                                0   \n",
      " '台湾智慧社区发展的最新实践'                                          0   \n",
      " '面向智慧城市的社区信息化管理研究'                                       0   \n",
      " '智慧社区运营管理体系及平台构建研究——基于利益相关者视角'                           0   \n",
      " '中国城市社区管理创新模式分析']                                        0   \n",
      "\n",
      "                                  '收集个人信息的电子合同中格式条款与强制缔约的问题研究'  \\\n",
      "['基于区块链技术视角下未来财务会计发展方向研究'                                   30   \n",
      " '基于区块链理念探索“一带一路”区域的新零售模式'                                  30   \n",
      " '收集个人信息的电子合同中格式条款与强制缔约的问题研究'                               30   \n",
      " '区块链智联世界:去中心化的信用中介2.0'                                     30   \n",
      " '我国互联网金融监管理论研究及现状分析'                                       30   \n",
      "...                                                        ...   \n",
      " '基于结构方程模型的智慧社区购买意愿影响因素研究'                                   0   \n",
      " '台湾智慧社区发展的最新实践'                                             0   \n",
      " '面向智慧城市的社区信息化管理研究'                                          0   \n",
      " '智慧社区运营管理体系及平台构建研究——基于利益相关者视角'                              0   \n",
      " '中国城市社区管理创新模式分析']                                           0   \n",
      "\n",
      "                                  '区块链智联世界:去中心化的信用中介2.0'  \\\n",
      "['基于区块链技术视角下未来财务会计发展方向研究'                             30   \n",
      " '基于区块链理念探索“一带一路”区域的新零售模式'                            30   \n",
      " '收集个人信息的电子合同中格式条款与强制缔约的问题研究'                         30   \n",
      " '区块链智联世界:去中心化的信用中介2.0'                               90   \n",
      " '我国互联网金融监管理论研究及现状分析'                                 30   \n",
      "...                                                  ...   \n",
      " '基于结构方程模型的智慧社区购买意愿影响因素研究'                             0   \n",
      " '台湾智慧社区发展的最新实践'                                       0   \n",
      " '面向智慧城市的社区信息化管理研究'                                    0   \n",
      " '智慧社区运营管理体系及平台构建研究——基于利益相关者视角'                        0   \n",
      " '中国城市社区管理创新模式分析']                                     0   \n",
      "\n",
      "                                  '我国互联网金融监管理论研究及现状分析'  \\\n",
      "['基于区块链技术视角下未来财务会计发展方向研究'                           30   \n",
      " '基于区块链理念探索“一带一路”区域的新零售模式'                          30   \n",
      " '收集个人信息的电子合同中格式条款与强制缔约的问题研究'                       30   \n",
      " '区块链智联世界:去中心化的信用中介2.0'                             30   \n",
      " '我国互联网金融监管理论研究及现状分析'                               30   \n",
      "...                                                ...   \n",
      " '基于结构方程模型的智慧社区购买意愿影响因素研究'                           0   \n",
      " '台湾智慧社区发展的最新实践'                                     0   \n",
      " '面向智慧城市的社区信息化管理研究'                                  0   \n",
      " '智慧社区运营管理体系及平台构建研究——基于利益相关者视角'                      0   \n",
      " '中国城市社区管理创新模式分析']                                   0   \n",
      "\n",
      "                                  '区块链技术下价值互联网对传统金融机构的影响'  \\\n",
      "['基于区块链技术视角下未来财务会计发展方向研究'                              30   \n",
      " '基于区块链理念探索“一带一路”区域的新零售模式'                             30   \n",
      " '收集个人信息的电子合同中格式条款与强制缔约的问题研究'                          30   \n",
      " '区块链智联世界:去中心化的信用中介2.0'                                90   \n",
      " '我国互联网金融监管理论研究及现状分析'                                  30   \n",
      "...                                                   ...   \n",
      " '基于结构方程模型的智慧社区购买意愿影响因素研究'                              0   \n",
      " '台湾智慧社区发展的最新实践'                                        0   \n",
      " '面向智慧城市的社区信息化管理研究'                                     0   \n",
      " '智慧社区运营管理体系及平台构建研究——基于利益相关者视角'                         0   \n",
      " '中国城市社区管理创新模式分析']                                      0   \n",
      "\n",
      "                                  '基于区块链技术的混凝土泵车泵送方量数据存储研究'  \\\n",
      "['基于区块链技术视角下未来财务会计发展方向研究'                                30   \n",
      " '基于区块链理念探索“一带一路”区域的新零售模式'                               30   \n",
      " '收集个人信息的电子合同中格式条款与强制缔约的问题研究'                            30   \n",
      " '区块链智联世界:去中心化的信用中介2.0'                                  90   \n",
      " '我国互联网金融监管理论研究及现状分析'                                    30   \n",
      "...                                                     ...   \n",
      " '基于结构方程模型的智慧社区购买意愿影响因素研究'                                0   \n",
      " '台湾智慧社区发展的最新实践'                                          0   \n",
      " '面向智慧城市的社区信息化管理研究'                                       0   \n",
      " '智慧社区运营管理体系及平台构建研究——基于利益相关者视角'                           0   \n",
      " '中国城市社区管理创新模式分析']                                        0   \n",
      "\n",
      "                                  '论互联网金融消费者权益保护的有效路径'   '浅谈区块链金融的机遇与挑战'  \\\n",
      "['基于区块链技术视角下未来财务会计发展方向研究'                           30                30   \n",
      " '基于区块链理念探索“一带一路”区域的新零售模式'                          30                30   \n",
      " '收集个人信息的电子合同中格式条款与强制缔约的问题研究'                       30                30   \n",
      " '区块链智联世界:去中心化的信用中介2.0'                             30                90   \n",
      " '我国互联网金融监管理论研究及现状分析'                               30                30   \n",
      "...                                                ...               ...   \n",
      " '基于结构方程模型的智慧社区购买意愿影响因素研究'                           0                 0   \n",
      " '台湾智慧社区发展的最新实践'                                     0                 0   \n",
      " '面向智慧城市的社区信息化管理研究'                                  0                 0   \n",
      " '智慧社区运营管理体系及平台构建研究——基于利益相关者视角'                      0                 0   \n",
      " '中国城市社区管理创新模式分析']                                   0                 0   \n",
      "\n",
      "                                  '区块链对互联网金融行业的变革展望'  ...  \\\n",
      "['基于区块链技术视角下未来财务会计发展方向研究'                         30  ...   \n",
      " '基于区块链理念探索“一带一路”区域的新零售模式'                        30  ...   \n",
      " '收集个人信息的电子合同中格式条款与强制缔约的问题研究'                     30  ...   \n",
      " '区块链智联世界:去中心化的信用中介2.0'                           90  ...   \n",
      " '我国互联网金融监管理论研究及现状分析'                             30  ...   \n",
      "...                                              ...  ...   \n",
      " '基于结构方程模型的智慧社区购买意愿影响因素研究'                         0  ...   \n",
      " '台湾智慧社区发展的最新实践'                                   0  ...   \n",
      " '面向智慧城市的社区信息化管理研究'                                0  ...   \n",
      " '智慧社区运营管理体系及平台构建研究——基于利益相关者视角'                    0  ...   \n",
      " '中国城市社区管理创新模式分析']                                 0  ...   \n",
      "\n",
      "                                 ['基于GIS的街道信息管理系统设计与实现'   '信息平台建设助力街道安全监督'  \\\n",
      "['基于区块链技术视角下未来财务会计发展方向研究'                             0                  0   \n",
      " '基于区块链理念探索“一带一路”区域的新零售模式'                            0                  0   \n",
      " '收集个人信息的电子合同中格式条款与强制缔约的问题研究'                         0                  0   \n",
      " '区块链智联世界:去中心化的信用中介2.0'                               0                  0   \n",
      " '我国互联网金融监管理论研究及现状分析'                                 0                  0   \n",
      "...                                                 ...                ...   \n",
      " '基于结构方程模型的智慧社区购买意愿影响因素研究'                           30                 30   \n",
      " '台湾智慧社区发展的最新实践'                                     30                 30   \n",
      " '面向智慧城市的社区信息化管理研究'                                  30                 30   \n",
      " '智慧社区运营管理体系及平台构建研究——基于利益相关者视角'                      30                 30   \n",
      " '中国城市社区管理创新模式分析']                                   30                 30   \n",
      "\n",
      "                                  '智慧社区背景下社区民警服务群众创新研究'   '云平台下智慧家庭系统的具体实现'  \\\n",
      "['基于区块链技术视角下未来财务会计发展方向研究'                             0                   0   \n",
      " '基于区块链理念探索“一带一路”区域的新零售模式'                            0                   0   \n",
      " '收集个人信息的电子合同中格式条款与强制缔约的问题研究'                         0                   0   \n",
      " '区块链智联世界:去中心化的信用中介2.0'                               0                   0   \n",
      " '我国互联网金融监管理论研究及现状分析'                                 0                   0   \n",
      "...                                                 ...                 ...   \n",
      " '基于结构方程模型的智慧社区购买意愿影响因素研究'                           30                  30   \n",
      " '台湾智慧社区发展的最新实践'                                     30                  30   \n",
      " '面向智慧城市的社区信息化管理研究'                                  30                  30   \n",
      " '智慧社区运营管理体系及平台构建研究——基于利益相关者视角'                      30                  30   \n",
      " '中国城市社区管理创新模式分析']                                   30                  30   \n",
      "\n",
      "                                  '地铁上盖的智慧社区规划与设计'  \\\n",
      "['基于区块链技术视角下未来财务会计发展方向研究'                        0   \n",
      " '基于区块链理念探索“一带一路”区域的新零售模式'                       0   \n",
      " '收集个人信息的电子合同中格式条款与强制缔约的问题研究'                    0   \n",
      " '区块链智联世界:去中心化的信用中介2.0'                          0   \n",
      " '我国互联网金融监管理论研究及现状分析'                            0   \n",
      "...                                            ...   \n",
      " '基于结构方程模型的智慧社区购买意愿影响因素研究'                      30   \n",
      " '台湾智慧社区发展的最新实践'                                30   \n",
      " '面向智慧城市的社区信息化管理研究'                             30   \n",
      " '智慧社区运营管理体系及平台构建研究——基于利益相关者视角'                 30   \n",
      " '中国城市社区管理创新模式分析']                              30   \n",
      "\n",
      "                                  '基于结构方程模型的智慧社区购买意愿影响因素研究'   '台湾智慧社区发展的最新实践'  \\\n",
      "['基于区块链技术视角下未来财务会计发展方向研究'                                 0                 0   \n",
      " '基于区块链理念探索“一带一路”区域的新零售模式'                                0                 0   \n",
      " '收集个人信息的电子合同中格式条款与强制缔约的问题研究'                             0                 0   \n",
      " '区块链智联世界:去中心化的信用中介2.0'                                   0                 0   \n",
      " '我国互联网金融监管理论研究及现状分析'                                     0                 0   \n",
      "...                                                     ...               ...   \n",
      " '基于结构方程模型的智慧社区购买意愿影响因素研究'                               30                30   \n",
      " '台湾智慧社区发展的最新实践'                                         30                30   \n",
      " '面向智慧城市的社区信息化管理研究'                                      30                30   \n",
      " '智慧社区运营管理体系及平台构建研究——基于利益相关者视角'                          30                30   \n",
      " '中国城市社区管理创新模式分析']                                       30                30   \n",
      "\n",
      "                                  '面向智慧城市的社区信息化管理研究'  \\\n",
      "['基于区块链技术视角下未来财务会计发展方向研究'                          0   \n",
      " '基于区块链理念探索“一带一路”区域的新零售模式'                         0   \n",
      " '收集个人信息的电子合同中格式条款与强制缔约的问题研究'                      0   \n",
      " '区块链智联世界:去中心化的信用中介2.0'                            0   \n",
      " '我国互联网金融监管理论研究及现状分析'                              0   \n",
      "...                                              ...   \n",
      " '基于结构方程模型的智慧社区购买意愿影响因素研究'                        30   \n",
      " '台湾智慧社区发展的最新实践'                                  30   \n",
      " '面向智慧城市的社区信息化管理研究'                               30   \n",
      " '智慧社区运营管理体系及平台构建研究——基于利益相关者视角'                   30   \n",
      " '中国城市社区管理创新模式分析']                                30   \n",
      "\n",
      "                                  '智慧社区运营管理体系及平台构建研究——基于利益相关者视角'  \\\n",
      "['基于区块链技术视角下未来财务会计发展方向研究'                                      0   \n",
      " '基于区块链理念探索“一带一路”区域的新零售模式'                                     0   \n",
      " '收集个人信息的电子合同中格式条款与强制缔约的问题研究'                                  0   \n",
      " '区块链智联世界:去中心化的信用中介2.0'                                        0   \n",
      " '我国互联网金融监管理论研究及现状分析'                                          0   \n",
      "...                                                          ...   \n",
      " '基于结构方程模型的智慧社区购买意愿影响因素研究'                                    30   \n",
      " '台湾智慧社区发展的最新实践'                                              30   \n",
      " '面向智慧城市的社区信息化管理研究'                                           30   \n",
      " '智慧社区运营管理体系及平台构建研究——基于利益相关者视角'                               30   \n",
      " '中国城市社区管理创新模式分析']                                            30   \n",
      "\n",
      "                                  '中国城市社区管理创新模式分析']  \n",
      "['基于区块链技术视角下未来财务会计发展方向研究'                         0  \n",
      " '基于区块链理念探索“一带一路”区域的新零售模式'                        0  \n",
      " '收集个人信息的电子合同中格式条款与强制缔约的问题研究'                     0  \n",
      " '区块链智联世界:去中心化的信用中介2.0'                           0  \n",
      " '我国互联网金融监管理论研究及现状分析'                             0  \n",
      "...                                             ...  \n",
      " '基于结构方程模型的智慧社区购买意愿影响因素研究'                       30  \n",
      " '台湾智慧社区发展的最新实践'                                 30  \n",
      " '面向智慧城市的社区信息化管理研究'                              30  \n",
      " '智慧社区运营管理体系及平台构建研究——基于利益相关者视角'                  30  \n",
      " '中国城市社区管理创新模式分析']                               30  \n",
      "\n",
      "[402 rows x 402 columns]\n"
     ]
    }
   ],
   "source": [
    "df2 = pd.DataFrame(data = data,index=keywords,columns=keywords)#建立关键词之间的相关性矩阵\n",
    "\n",
    "value = lambda x : x * 30 if x > 0 else 0\n",
    "df2 = df2.applymap(value)\n",
    "# for i in range(0, len(df2.index)):\n",
    "#     for j in range(0, len(df2.columns)):\n",
    "#         if df2.iloc[i][j] < 4:#这里设置阈值\n",
    "#             df2.iloc[i][j] = 0\n",
    "print(df2) "
   ]
  },
  {
   "cell_type": "code",
   "execution_count": 11,
   "metadata": {
    "ExecuteTime": {
     "end_time": "2020-08-28T09:29:32.301915Z",
     "start_time": "2020-08-28T09:29:32.241952Z"
    }
   },
   "outputs": [],
   "source": [
    "net = nx.Graph(df2)#创建无向图，以关键词为节点，相关性为边 "
   ]
  },
  {
   "cell_type": "code",
   "execution_count": 12,
   "metadata": {
    "ExecuteTime": {
     "end_time": "2020-08-28T09:29:36.499823Z",
     "start_time": "2020-08-28T09:29:35.681063Z"
    }
   },
   "outputs": [],
   "source": [
    "de=dict(net.degree())#建立字典，关键字为索引，度（关联情况）为值\n",
    "pos = nx.spring_layout(net)#四种建图模式，spectral,shell,circular,spring，spring是可以看的了\n",
    "keywords = [i for i in keywords]#有边的关键词  "
   ]
  },
  {
   "cell_type": "code",
   "execution_count": 13,
   "metadata": {
    "ExecuteTime": {
     "end_time": "2020-08-28T09:29:42.253389Z",
     "start_time": "2020-08-28T09:29:42.244421Z"
    }
   },
   "outputs": [],
   "source": [
    "array = np.zeros(len(keywords))#建立以度为值的一维矩阵\n",
    "j = 0#记录值的数量\n",
    "for i in de.keys():\n",
    "    array[j] = de[i]\n",
    "    j+=1\n",
    "arg = np.argsort(-np.array(array))\n",
    "labels = {}#记录关键词\n",
    "for index in range(0, len(keywords)):\n",
    "    labels[keywords[arg[index]]] = keywords[arg[index]]  "
   ]
  },
  {
   "cell_type": "code",
   "execution_count": 14,
   "metadata": {
    "ExecuteTime": {
     "end_time": "2020-08-28T09:29:45.950921Z",
     "start_time": "2020-08-28T09:29:45.944939Z"
    }
   },
   "outputs": [],
   "source": [
    "de2 = [de[v]*10 for v in sorted(de.keys(), reverse=False)]#应该是节点的大小，尺寸调整合适  "
   ]
  },
  {
   "cell_type": "code",
   "execution_count": 15,
   "metadata": {
    "ExecuteTime": {
     "end_time": "2020-08-28T09:30:02.101387Z",
     "start_time": "2020-08-28T09:29:59.704108Z"
    }
   },
   "outputs": [
    {
     "data": {
      "image/png": "[encoded data removed]",
      "text/plain": [
       "<Figure size 3600x3600 with 1 Axes>"
      ]
     },
     "metadata": {},
     "output_type": "display_data"
    }
   ],
   "source": [
    "plt.figure(figsize=(50, 50))\n",
    "#nx.draw_networkx_labels(net,pos,labels, font_size=40,font_color='black',font_family ='YouYuan')\n",
    "nx.draw_networkx(net, pos, node_size=de2, with_labels = False, node_color='#A52A2A', linewidths=None, width=2.0, edge_color ='#858585')"
   ]
  },
  {
   "cell_type": "code",
   "execution_count": 17,
   "metadata": {
    "ExecuteTime": {
     "end_time": "2020-08-28T10:57:51.807899Z",
     "start_time": "2020-08-28T10:57:51.505346Z"
    }
   },
   "outputs": [],
   "source": [
    "import os\n",
    "import networkx as nx#复杂网络分析库\n",
    "import network\n",
    "import pandas as pd\n",
    "import numpy as np\n",
    "import matplotlib.pyplot as plt "
   ]
  },
  {
   "cell_type": "code",
   "execution_count": 19,
   "metadata": {
    "ExecuteTime": {
     "end_time": "2020-08-28T13:33:29.536883Z",
     "start_time": "2020-08-28T13:33:29.008066Z"
    }
   },
   "outputs": [
    {
     "ename": "AttributeError",
     "evalue": "module 'network' has no attribute 'seperate'",
     "output_type": "error",
     "traceback": [
      "\u001b[1;31m---------------------------------------------------------------------------\u001b[0m",
      "\u001b[1;31mAttributeError\u001b[0m                            Traceback (most recent call last)",
      "\u001b[1;32m<ipython-input-19-d64cb3a2db62>\u001b[0m in \u001b[0;36m<module>\u001b[1;34m\u001b[0m\n\u001b[0;32m      4\u001b[0m \u001b[0mframe\u001b[0m \u001b[1;33m=\u001b[0m \u001b[0mreadf\u001b[0m\u001b[1;33m[\u001b[0m\u001b[0mreadf\u001b[0m\u001b[1;33m[\u001b[0m\u001b[1;34m'共引文献'\u001b[0m\u001b[1;33m]\u001b[0m\u001b[1;33m.\u001b[0m\u001b[0mnotnull\u001b[0m\u001b[1;33m(\u001b[0m\u001b[1;33m)\u001b[0m\u001b[1;33m]\u001b[0m\u001b[1;31m#如果关键词那一列非空，读取所有数据\u001b[0m\u001b[1;33m\u001b[0m\u001b[1;33m\u001b[0m\u001b[0m\n\u001b[0;32m      5\u001b[0m \u001b[1;33m\u001b[0m\u001b[0m\n\u001b[1;32m----> 6\u001b[1;33m \u001b[0mkeywords\u001b[0m \u001b[1;33m=\u001b[0m \u001b[0mnetwork\u001b[0m\u001b[1;33m.\u001b[0m\u001b[0mseperate\u001b[0m\u001b[1;33m(\u001b[0m\u001b[0mframe\u001b[0m\u001b[1;33m,\u001b[0m \u001b[1;34m'共引文献'\u001b[0m\u001b[1;33m,\u001b[0m \u001b[1;34m' '\u001b[0m\u001b[1;33m,\u001b[0m \u001b[1;34m';'\u001b[0m\u001b[1;33m)\u001b[0m\u001b[1;33m\u001b[0m\u001b[1;33m\u001b[0m\u001b[0m\n\u001b[0m\u001b[0;32m      7\u001b[0m \u001b[1;31m#关键词列表，里面记录了所有的关键词，没有重复\u001b[0m\u001b[1;33m\u001b[0m\u001b[1;33m\u001b[0m\u001b[1;33m\u001b[0m\u001b[0m\n\u001b[0;32m      8\u001b[0m \u001b[1;31m# for keyword in frame['共引文献']:#分隔关键词，并加入到列表中，去重\u001b[0m\u001b[1;33m\u001b[0m\u001b[1;33m\u001b[0m\u001b[1;33m\u001b[0m\u001b[0m\n",
      "\u001b[1;31mAttributeError\u001b[0m: module 'network' has no attribute 'seperate'"
     ]
    }
   ],
   "source": [
    "path = os.path.abspath('G:/CDO/知网研学/CNKI-analysis-master/dependence/')\n",
    "xls = pd.ExcelFile(path+'/知网数据.xls')#读取xls表格\n",
    "readf = pd.read_excel(xls,'Sheet1')#读取第一个表\n",
    "frame = readf[readf['共引文献'].notnull()]#如果关键词那一列非空，读取所有数据\n",
    "\n",
    "keywords = network.seperate(frame, '共引文献', ' ', ';')\n",
    "#关键词列表，里面记录了所有的关键词，没有重复\n",
    "# for keyword in frame['共引文献']:#分隔关键词，并加入到列表中，去重\n",
    "#     if ',' in keyword:\n",
    "#         temp = keyword.split(',')\n",
    "#         for x in temp:\n",
    "#             if x not in keywords:\n",
    "#                 keywords.append(x)\n",
    "#     elif ';' in keyword:\n",
    "#         temp = keyword.split(';')\n",
    "#         for x in temp:\n",
    "#             if x not in keywords:\n",
    "#                 keywords.append(x)\n",
    "#     else:\n",
    "#         if keyword not in keywords:\n",
    "#             keywords.append(keyword)\n",
    "\n",
    "df = pd.DataFrame(index=frame['序号'],columns=keywords)    #建立以标题为行，关键词为列的DataFrame矩阵\n",
    "df.index.name='序号'\n",
    "df.columns.name='共引文献'\n",
    "#\n",
    "# #将这一篇文献所拥有的关键词在矩阵中标记为1\n",
    "# for row in frame['序号']:\n",
    "#     for keyword in df.columns:\n",
    "#         if keyword in frame.loc[row]['共引文献']:\n",
    "#             df.loc[row][keyword] = 1\n",
    "# df = df.fillna(0)#填充空值\n",
    "\n",
    "df = network.fill(frame, '序号', '共引文献', df)\n",
    "\n",
    "#df为存在矩阵，dataframe类型\n",
    "#data为关联度，矩阵类型\n",
    "#df2位关联度矩阵，dataframe类型\n",
    "\n",
    "data = df.values.T.dot(df.values)#建立关键词之间的相关性，边的长度为相关性，在这里是将两个df点乘，df.values是按行读取值\n",
    "df2 = pd.DataFrame(data = data,index=keywords,columns=keywords)#建立关键词之间的相关性矩阵，以关联度作为值传入\n",
    "\n",
    "#设置阈值\n",
    "value = lambda x : x * 30 if x > 0 else 0\n",
    "df2 = df2.applymap(value)\n",
    "\n",
    "net = nx.Graph(df2)#创建无向图，以关键词为节点，相关性为边\n",
    "\n",
    "dele, net = network.remove(keywords, net)\n",
    "\n",
    "de=dict(net.degree())#建立字典，关键字为索引，度（关联情况）为值\n",
    "pos = nx.spring_layout(net)#四种建图模式，spectral,shell,circular,spring，spring是可以看的了\n",
    "\n",
    "array = np.zeros(len(keywords))#建立以度为值的一维矩阵\n",
    "arg = np.argsort(-np.array(array))\n",
    "labels = {}#记录关键词\n",
    "for index in range(0, len(keywords)):\n",
    "    labels[keywords[arg[index]]] = keywords[arg[index]]\n",
    "\n",
    "de2 = [de[v]*10 for v in sorted(de.keys(), reverse=False)]#应该是节点的大小，尺寸调整合适\n",
    "\n",
    "plt.figure(figsize=(50, 50))\n",
    "nx.draw_networkx_labels(net,pos,labels, font_size=40,font_color='black',font_family ='YouYuan')#写标记\n",
    "nx.draw_networkx(net, pos, node_size=de2, with_labels = False, node_color='#A52A2A', linewidths=None, width=2.0, edge_color ='#858585')"
   ]
  },
  {
   "cell_type": "code",
   "execution_count": 20,
   "metadata": {
    "ExecuteTime": {
     "end_time": "2020-08-28T13:33:49.010126Z",
     "start_time": "2020-08-28T13:33:48.976826Z"
    }
   },
   "outputs": [],
   "source": [
    "import os\n",
    "import networkx as nx\n",
    "import pandas as pd\n",
    "import numpy as np\n",
    "import matplotlib.pyplot as plt "
   ]
  },
  {
   "cell_type": "code",
   "execution_count": 21,
   "metadata": {
    "ExecuteTime": {
     "end_time": "2020-08-28T13:34:40.827547Z",
     "start_time": "2020-08-28T13:34:40.527682Z"
    }
   },
   "outputs": [
    {
     "data": {
      "text/html": [
       "<div>\n",
       "<style scoped>\n",
       "    .dataframe tbody tr th:only-of-type {\n",
       "        vertical-align: middle;\n",
       "    }\n",
       "\n",
       "    .dataframe tbody tr th {\n",
       "        vertical-align: top;\n",
       "    }\n",
       "\n",
       "    .dataframe thead th {\n",
       "        text-align: right;\n",
       "    }\n",
       "</style>\n",
       "<table border=\"1\" class=\"dataframe\">\n",
       "  <thead>\n",
       "    <tr style=\"text-align: right;\">\n",
       "      <th></th>\n",
       "      <th>序号</th>\n",
       "      <th>二级参考</th>\n",
       "      <th>作者</th>\n",
       "      <th>共引文献</th>\n",
       "      <th>关键词</th>\n",
       "      <th>参考文献</th>\n",
       "      <th>年份</th>\n",
       "      <th>机构</th>\n",
       "      <th>相似文献</th>\n",
       "      <th>相关作者</th>\n",
       "      <th>相关机构</th>\n",
       "      <th>题目+引用</th>\n",
       "      <th>题目</th>\n",
       "    </tr>\n",
       "  </thead>\n",
       "  <tbody>\n",
       "    <tr>\n",
       "      <th>0</th>\n",
       "      <td>0</td>\n",
       "      <td>NaN</td>\n",
       "      <td>['朱文晶']</td>\n",
       "      <td>NaN</td>\n",
       "      <td>区块链 金融服务 应用场景</td>\n",
       "      <td>NaN</td>\n",
       "      <td>2018年</td>\n",
       "      <td>《暨南大学》</td>\n",
       "      <td>['基于区块链机制的云计算环境下服务组合策略的研究', '浅谈区块链的设计与未来', '基于...</td>\n",
       "      <td>['徐蕾', '陈何清', '安庆文', '王成', '滕达', '张鹏', '谢雨', '...</td>\n",
       "      <td>['南京大学', '浙江大学', '山东大学', '西南科技大学', '首都经济贸易大学',...</td>\n",
       "      <td>金融服务区块链应用场景及其案例分析--《暨南大学》2018年硕士论文</td>\n",
       "      <td>金融服务区块链应用场景及其案例分析</td>\n",
       "    </tr>\n",
       "    <tr>\n",
       "      <th>1</th>\n",
       "      <td>1</td>\n",
       "      <td>['去中心化金融与区块链', '区块链带来金融与法律优化', '数字货币技术实现框架构想',...</td>\n",
       "      <td>['高昀']</td>\n",
       "      <td>['基于区块链技术视角下未来财务会计发展方向研究', '基于区块链理念探索“一带一路”区域的...</td>\n",
       "      <td>区块链 金融企业 监管</td>\n",
       "      <td>['The DAO被攻击事件分析与思考', '去中心化金融与区块链', '从R3区块链联盟看...</td>\n",
       "      <td>2017年</td>\n",
       "      <td>《兰州财经大学》</td>\n",
       "      <td>['于家堡金融区引援', '于家堡金融区引资超500亿', '西安金融商务区获评“最具投资价...</td>\n",
       "      <td>['徐蕾', '陈何清', '安庆文', '庹小忠', '滕达', '谢雨', '夏新岳',...</td>\n",
       "      <td>['上海国家会计学院', '西南石油大学', '山东大学', '东华大学', '西南科技大学...</td>\n",
       "      <td>我国金融区块链应用的法律问题研究--《兰州财经大学》2017年硕士论文</td>\n",
       "      <td>我国金融区块链应用的法律问题研究</td>\n",
       "    </tr>\n",
       "    <tr>\n",
       "      <th>2</th>\n",
       "      <td>2</td>\n",
       "      <td>NaN</td>\n",
       "      <td>['王元地', '李粒', '胡谍']</td>\n",
       "      <td>NaN</td>\n",
       "      <td>区块链 交易流程 基础架构 优势及问题 理论来源 技术支撑 应用及发展</td>\n",
       "      <td>NaN</td>\n",
       "      <td>2018年03期</td>\n",
       "      <td>《中国矿业大学学报(社会科学版)》</td>\n",
       "      <td>NaN</td>\n",
       "      <td>NaN</td>\n",
       "      <td>NaN</td>\n",
       "      <td>区块链研究综述--《中国矿业大学学报(社会科学版)》2018年03期\\r\\n</td>\n",
       "      <td>区块链研究综述</td>\n",
       "    </tr>\n",
       "    <tr>\n",
       "      <th>3</th>\n",
       "      <td>3</td>\n",
       "      <td>NaN</td>\n",
       "      <td>['宫晓林', '杨望', '曲双石']</td>\n",
       "      <td>NaN</td>\n",
       "      <td>区块链 信息不对称 比特币 金融科技</td>\n",
       "      <td>NaN</td>\n",
       "      <td>2017年02期</td>\n",
       "      <td>《国际金融》</td>\n",
       "      <td>NaN</td>\n",
       "      <td>NaN</td>\n",
       "      <td>NaN</td>\n",
       "      <td>区块链的技术原理及其在金融领域的应用--《国际金融》2017年02期\\r\\n</td>\n",
       "      <td>区块链的技术原理及其在金融领域的应用</td>\n",
       "    </tr>\n",
       "    <tr>\n",
       "      <th>4</th>\n",
       "      <td>4</td>\n",
       "      <td>NaN</td>\n",
       "      <td>['中国人民银行合肥中心支行科技处课题组', '谢铉洋']</td>\n",
       "      <td>NaN</td>\n",
       "      <td>区块链 数字货币 去中心化</td>\n",
       "      <td>NaN</td>\n",
       "      <td>2017年01期</td>\n",
       "      <td>《金融纵横》</td>\n",
       "      <td>NaN</td>\n",
       "      <td>NaN</td>\n",
       "      <td>NaN</td>\n",
       "      <td>区块链结构、参与主体及应用展望--《金融纵横》2017年01期\\r\\n</td>\n",
       "      <td>区块链结构、参与主体及应用展望</td>\n",
       "    </tr>\n",
       "  </tbody>\n",
       "</table>\n",
       "</div>"
      ],
      "text/plain": [
       "   序号                                               二级参考  \\\n",
       "0   0                                                NaN   \n",
       "1   1  ['去中心化金融与区块链', '区块链带来金融与法律优化', '数字货币技术实现框架构想',...   \n",
       "2   2                                                NaN   \n",
       "3   3                                                NaN   \n",
       "4   4                                                NaN   \n",
       "\n",
       "                              作者  \\\n",
       "0                        ['朱文晶']   \n",
       "1                         ['高昀']   \n",
       "2            ['王元地', '李粒', '胡谍']   \n",
       "3           ['宫晓林', '杨望', '曲双石']   \n",
       "4  ['中国人民银行合肥中心支行科技处课题组', '谢铉洋']   \n",
       "\n",
       "                                                共引文献  \\\n",
       "0                                                NaN   \n",
       "1  ['基于区块链技术视角下未来财务会计发展方向研究', '基于区块链理念探索“一带一路”区域的...   \n",
       "2                                                NaN   \n",
       "3                                                NaN   \n",
       "4                                                NaN   \n",
       "\n",
       "                                   关键词  \\\n",
       "0                        区块链 金融服务 应用场景   \n",
       "1                          区块链 金融企业 监管   \n",
       "2  区块链 交易流程 基础架构 优势及问题 理论来源 技术支撑 应用及发展   \n",
       "3                   区块链 信息不对称 比特币 金融科技   \n",
       "4                        区块链 数字货币 去中心化   \n",
       "\n",
       "                                                参考文献        年份  \\\n",
       "0                                                NaN     2018年   \n",
       "1  ['The DAO被攻击事件分析与思考', '去中心化金融与区块链', '从R3区块链联盟看...     2017年   \n",
       "2                                                NaN  2018年03期   \n",
       "3                                                NaN  2017年02期   \n",
       "4                                                NaN  2017年01期   \n",
       "\n",
       "                  机构                                               相似文献  \\\n",
       "0             《暨南大学》  ['基于区块链机制的云计算环境下服务组合策略的研究', '浅谈区块链的设计与未来', '基于...   \n",
       "1           《兰州财经大学》  ['于家堡金融区引援', '于家堡金融区引资超500亿', '西安金融商务区获评“最具投资价...   \n",
       "2  《中国矿业大学学报(社会科学版)》                                                NaN   \n",
       "3             《国际金融》                                                NaN   \n",
       "4             《金融纵横》                                                NaN   \n",
       "\n",
       "                                                相关作者  \\\n",
       "0  ['徐蕾', '陈何清', '安庆文', '王成', '滕达', '张鹏', '谢雨', '...   \n",
       "1  ['徐蕾', '陈何清', '安庆文', '庹小忠', '滕达', '谢雨', '夏新岳',...   \n",
       "2                                                NaN   \n",
       "3                                                NaN   \n",
       "4                                                NaN   \n",
       "\n",
       "                                                相关机构  \\\n",
       "0  ['南京大学', '浙江大学', '山东大学', '西南科技大学', '首都经济贸易大学',...   \n",
       "1  ['上海国家会计学院', '西南石油大学', '山东大学', '东华大学', '西南科技大学...   \n",
       "2                                                NaN   \n",
       "3                                                NaN   \n",
       "4                                                NaN   \n",
       "\n",
       "                                            题目+引用                  题目  \n",
       "0              金融服务区块链应用场景及其案例分析--《暨南大学》2018年硕士论文   金融服务区块链应用场景及其案例分析  \n",
       "1             我国金融区块链应用的法律问题研究--《兰州财经大学》2017年硕士论文    我国金融区块链应用的法律问题研究  \n",
       "2  区块链研究综述--《中国矿业大学学报(社会科学版)》2018年03期\\r\\n                     区块链研究综述  \n",
       "3  区块链的技术原理及其在金融领域的应用--《国际金融》2017年02期\\r\\n          区块链的技术原理及其在金融领域的应用  \n",
       "4     区块链结构、参与主体及应用展望--《金融纵横》2017年01期\\r\\n             区块链结构、参与主体及应用展望  "
      ]
     },
     "execution_count": 21,
     "metadata": {},
     "output_type": "execute_result"
    }
   ],
   "source": [
    "path = os.path.abspath('G:/CDO/知网研学/CNKI-analysis-master/dependence/')\n",
    "xlsx = pd.ExcelFile(path+'/知网数据.xls') #读取数据文件\n",
    "readf = pd.read_excel(xlsx,'Sheet1')\n",
    "readf.head()"
   ]
  },
  {
   "cell_type": "code",
   "execution_count": 22,
   "metadata": {
    "ExecuteTime": {
     "end_time": "2020-08-28T13:35:07.440753Z",
     "start_time": "2020-08-28T13:35:07.135612Z"
    }
   },
   "outputs": [
    {
     "name": "stderr",
     "output_type": "stream",
     "text": [
      "E:\\Anaconda3\\lib\\site-packages\\ipykernel_launcher.py:4: SettingWithCopyWarning: \n",
      "A value is trying to be set on a copy of a slice from a DataFrame\n",
      "\n",
      "See the caveats in the documentation: https://pandas.pydata.org/pandas-docs/stable/user_guide/indexing.html#returning-a-view-versus-a-copy\n",
      "  after removing the cwd from sys.path.\n",
      "E:\\Anaconda3\\lib\\site-packages\\ipykernel_launcher.py:6: SettingWithCopyWarning: \n",
      "A value is trying to be set on a copy of a slice from a DataFrame\n",
      "\n",
      "See the caveats in the documentation: https://pandas.pydata.org/pandas-docs/stable/user_guide/indexing.html#returning-a-view-versus-a-copy\n",
      "  \n",
      "E:\\Anaconda3\\lib\\site-packages\\ipykernel_launcher.py:9: SettingWithCopyWarning: \n",
      "A value is trying to be set on a copy of a slice from a DataFrame\n",
      "\n",
      "See the caveats in the documentation: https://pandas.pydata.org/pandas-docs/stable/user_guide/indexing.html#returning-a-view-versus-a-copy\n",
      "  if __name__ == '__main__':\n"
     ]
    }
   ],
   "source": [
    "#数据进行预处理，将读入的作者以及相关作者信息转换为列表形式\n",
    "for i in range(len(readf['作者'])):\n",
    "    if readf['作者'][i] != '[]':\n",
    "        readf['作者'][i] = eval(readf['作者'][i])\n",
    "    else:\n",
    "        readf['作者'][i] = np.nan\n",
    "for j in range(len(readf['相关作者'])):\n",
    "    if readf['相关作者'][j] is not np.nan:\n",
    "        readf['相关作者'][j] = eval(readf['相关作者'][j]) "
   ]
  },
  {
   "cell_type": "code",
   "execution_count": 23,
   "metadata": {
    "ExecuteTime": {
     "end_time": "2020-08-28T13:35:30.332769Z",
     "start_time": "2020-08-28T13:35:30.322818Z"
    }
   },
   "outputs": [],
   "source": [
    "#数据预处理，将作者为空的数据去除\n",
    "frame = readf[readf['作者'].notnull()]\n",
    "frame.index = frame['题目'] "
   ]
  },
  {
   "cell_type": "code",
   "execution_count": 27,
   "metadata": {
    "ExecuteTime": {
     "end_time": "2020-08-28T14:04:12.722694Z",
     "start_time": "2020-08-28T14:04:11.340716Z"
    }
   },
   "outputs": [
    {
     "ename": "KeyError",
     "evalue": "nan",
     "output_type": "error",
     "traceback": [
      "\u001b[1;31m---------------------------------------------------------------------------\u001b[0m",
      "\u001b[1;31mKeyError\u001b[0m                                  Traceback (most recent call last)",
      "\u001b[1;32m~\\AppData\\Roaming\\Python\\Python37\\site-packages\\pandas\\core\\indexes\\base.py\u001b[0m in \u001b[0;36mget_loc\u001b[1;34m(self, key, method, tolerance)\u001b[0m\n\u001b[0;32m   2645\u001b[0m             \u001b[1;32mtry\u001b[0m\u001b[1;33m:\u001b[0m\u001b[1;33m\u001b[0m\u001b[1;33m\u001b[0m\u001b[0m\n\u001b[1;32m-> 2646\u001b[1;33m                 \u001b[1;32mreturn\u001b[0m \u001b[0mself\u001b[0m\u001b[1;33m.\u001b[0m\u001b[0m_engine\u001b[0m\u001b[1;33m.\u001b[0m\u001b[0mget_loc\u001b[0m\u001b[1;33m(\u001b[0m\u001b[0mkey\u001b[0m\u001b[1;33m)\u001b[0m\u001b[1;33m\u001b[0m\u001b[1;33m\u001b[0m\u001b[0m\n\u001b[0m\u001b[0;32m   2647\u001b[0m             \u001b[1;32mexcept\u001b[0m \u001b[0mKeyError\u001b[0m\u001b[1;33m:\u001b[0m\u001b[1;33m\u001b[0m\u001b[1;33m\u001b[0m\u001b[0m\n",
      "\u001b[1;32mpandas\\_libs\\index.pyx\u001b[0m in \u001b[0;36mpandas._libs.index.IndexEngine.get_loc\u001b[1;34m()\u001b[0m\n",
      "\u001b[1;32mpandas\\_libs\\index.pyx\u001b[0m in \u001b[0;36mpandas._libs.index.IndexEngine.get_loc\u001b[1;34m()\u001b[0m\n",
      "\u001b[1;32mpandas\\_libs\\index.pyx\u001b[0m in \u001b[0;36mpandas._libs.index.IndexEngine._get_loc_duplicates\u001b[1;34m()\u001b[0m\n",
      "\u001b[1;32mpandas\\_libs\\index.pyx\u001b[0m in \u001b[0;36mpandas._libs.index.IndexEngine._maybe_get_bool_indexer\u001b[1;34m()\u001b[0m\n",
      "\u001b[1;31mKeyError\u001b[0m: nan",
      "\nDuring handling of the above exception, another exception occurred:\n",
      "\u001b[1;31mKeyError\u001b[0m                                  Traceback (most recent call last)",
      "\u001b[1;32m<ipython-input-27-8ebd8ea85046>\u001b[0m in \u001b[0;36m<module>\u001b[1;34m\u001b[0m\n\u001b[0;32m     16\u001b[0m \u001b[0mdf\u001b[0m\u001b[1;33m.\u001b[0m\u001b[0mcolumns\u001b[0m\u001b[1;33m.\u001b[0m\u001b[0mname\u001b[0m\u001b[1;33m=\u001b[0m\u001b[1;34m'作者'\u001b[0m\u001b[1;33m\u001b[0m\u001b[1;33m\u001b[0m\u001b[0m\n\u001b[0;32m     17\u001b[0m \u001b[1;32mfor\u001b[0m \u001b[0mtitle\u001b[0m \u001b[1;32min\u001b[0m \u001b[0mframe\u001b[0m\u001b[1;33m[\u001b[0m\u001b[1;34m'题目'\u001b[0m\u001b[1;33m]\u001b[0m\u001b[1;33m:\u001b[0m\u001b[1;33m\u001b[0m\u001b[1;33m\u001b[0m\u001b[0m\n\u001b[1;32m---> 18\u001b[1;33m     \u001b[1;32mfor\u001b[0m \u001b[0mi\u001b[0m \u001b[1;32min\u001b[0m \u001b[0mframe\u001b[0m\u001b[1;33m.\u001b[0m\u001b[0mloc\u001b[0m\u001b[1;33m[\u001b[0m\u001b[0mtitle\u001b[0m\u001b[1;33m]\u001b[0m\u001b[1;33m[\u001b[0m\u001b[1;34m'作者'\u001b[0m\u001b[1;33m]\u001b[0m\u001b[1;33m:\u001b[0m\u001b[1;33m\u001b[0m\u001b[1;33m\u001b[0m\u001b[0m\n\u001b[0m\u001b[0;32m     19\u001b[0m         \u001b[0mdf\u001b[0m\u001b[1;33m.\u001b[0m\u001b[0mloc\u001b[0m\u001b[1;33m[\u001b[0m\u001b[0mtitle\u001b[0m\u001b[1;33m,\u001b[0m\u001b[0mi\u001b[0m\u001b[1;33m]\u001b[0m \u001b[1;33m=\u001b[0m \u001b[1;36m1\u001b[0m\u001b[1;33m\u001b[0m\u001b[1;33m\u001b[0m\u001b[0m\n\u001b[0;32m     20\u001b[0m     \u001b[1;32mif\u001b[0m \u001b[0mframe\u001b[0m\u001b[1;33m.\u001b[0m\u001b[0mloc\u001b[0m\u001b[1;33m[\u001b[0m\u001b[0mtitle\u001b[0m\u001b[1;33m]\u001b[0m\u001b[1;33m[\u001b[0m\u001b[1;34m'相关作者'\u001b[0m\u001b[1;33m]\u001b[0m \u001b[1;32mis\u001b[0m \u001b[1;32mnot\u001b[0m \u001b[0mnp\u001b[0m\u001b[1;33m.\u001b[0m\u001b[0mnan\u001b[0m\u001b[1;33m:\u001b[0m\u001b[1;33m\u001b[0m\u001b[1;33m\u001b[0m\u001b[0m\n",
      "\u001b[1;32m~\\AppData\\Roaming\\Python\\Python37\\site-packages\\pandas\\core\\indexing.py\u001b[0m in \u001b[0;36m__getitem__\u001b[1;34m(self, key)\u001b[0m\n\u001b[0;32m   1765\u001b[0m \u001b[1;33m\u001b[0m\u001b[0m\n\u001b[0;32m   1766\u001b[0m             \u001b[0mmaybe_callable\u001b[0m \u001b[1;33m=\u001b[0m \u001b[0mcom\u001b[0m\u001b[1;33m.\u001b[0m\u001b[0mapply_if_callable\u001b[0m\u001b[1;33m(\u001b[0m\u001b[0mkey\u001b[0m\u001b[1;33m,\u001b[0m \u001b[0mself\u001b[0m\u001b[1;33m.\u001b[0m\u001b[0mobj\u001b[0m\u001b[1;33m)\u001b[0m\u001b[1;33m\u001b[0m\u001b[1;33m\u001b[0m\u001b[0m\n\u001b[1;32m-> 1767\u001b[1;33m             \u001b[1;32mreturn\u001b[0m \u001b[0mself\u001b[0m\u001b[1;33m.\u001b[0m\u001b[0m_getitem_axis\u001b[0m\u001b[1;33m(\u001b[0m\u001b[0mmaybe_callable\u001b[0m\u001b[1;33m,\u001b[0m \u001b[0maxis\u001b[0m\u001b[1;33m=\u001b[0m\u001b[0maxis\u001b[0m\u001b[1;33m)\u001b[0m\u001b[1;33m\u001b[0m\u001b[1;33m\u001b[0m\u001b[0m\n\u001b[0m\u001b[0;32m   1768\u001b[0m \u001b[1;33m\u001b[0m\u001b[0m\n\u001b[0;32m   1769\u001b[0m     \u001b[1;32mdef\u001b[0m \u001b[0m_is_scalar_access\u001b[0m\u001b[1;33m(\u001b[0m\u001b[0mself\u001b[0m\u001b[1;33m,\u001b[0m \u001b[0mkey\u001b[0m\u001b[1;33m:\u001b[0m \u001b[0mTuple\u001b[0m\u001b[1;33m)\u001b[0m\u001b[1;33m:\u001b[0m\u001b[1;33m\u001b[0m\u001b[1;33m\u001b[0m\u001b[0m\n",
      "\u001b[1;32m~\\AppData\\Roaming\\Python\\Python37\\site-packages\\pandas\\core\\indexing.py\u001b[0m in \u001b[0;36m_getitem_axis\u001b[1;34m(self, key, axis)\u001b[0m\n\u001b[0;32m   1962\u001b[0m         \u001b[1;31m# fall thru to straight lookup\u001b[0m\u001b[1;33m\u001b[0m\u001b[1;33m\u001b[0m\u001b[1;33m\u001b[0m\u001b[0m\n\u001b[0;32m   1963\u001b[0m         \u001b[0mself\u001b[0m\u001b[1;33m.\u001b[0m\u001b[0m_validate_key\u001b[0m\u001b[1;33m(\u001b[0m\u001b[0mkey\u001b[0m\u001b[1;33m,\u001b[0m \u001b[0maxis\u001b[0m\u001b[1;33m)\u001b[0m\u001b[1;33m\u001b[0m\u001b[1;33m\u001b[0m\u001b[0m\n\u001b[1;32m-> 1964\u001b[1;33m         \u001b[1;32mreturn\u001b[0m \u001b[0mself\u001b[0m\u001b[1;33m.\u001b[0m\u001b[0m_get_label\u001b[0m\u001b[1;33m(\u001b[0m\u001b[0mkey\u001b[0m\u001b[1;33m,\u001b[0m \u001b[0maxis\u001b[0m\u001b[1;33m=\u001b[0m\u001b[0maxis\u001b[0m\u001b[1;33m)\u001b[0m\u001b[1;33m\u001b[0m\u001b[1;33m\u001b[0m\u001b[0m\n\u001b[0m\u001b[0;32m   1965\u001b[0m \u001b[1;33m\u001b[0m\u001b[0m\n\u001b[0;32m   1966\u001b[0m \u001b[1;33m\u001b[0m\u001b[0m\n",
      "\u001b[1;32m~\\AppData\\Roaming\\Python\\Python37\\site-packages\\pandas\\core\\indexing.py\u001b[0m in \u001b[0;36m_get_label\u001b[1;34m(self, label, axis)\u001b[0m\n\u001b[0;32m    622\u001b[0m             \u001b[1;32mraise\u001b[0m \u001b[0mIndexingError\u001b[0m\u001b[1;33m(\u001b[0m\u001b[1;34m\"no slices here, handle elsewhere\"\u001b[0m\u001b[1;33m)\u001b[0m\u001b[1;33m\u001b[0m\u001b[1;33m\u001b[0m\u001b[0m\n\u001b[0;32m    623\u001b[0m \u001b[1;33m\u001b[0m\u001b[0m\n\u001b[1;32m--> 624\u001b[1;33m         \u001b[1;32mreturn\u001b[0m \u001b[0mself\u001b[0m\u001b[1;33m.\u001b[0m\u001b[0mobj\u001b[0m\u001b[1;33m.\u001b[0m\u001b[0m_xs\u001b[0m\u001b[1;33m(\u001b[0m\u001b[0mlabel\u001b[0m\u001b[1;33m,\u001b[0m \u001b[0maxis\u001b[0m\u001b[1;33m=\u001b[0m\u001b[0maxis\u001b[0m\u001b[1;33m)\u001b[0m\u001b[1;33m\u001b[0m\u001b[1;33m\u001b[0m\u001b[0m\n\u001b[0m\u001b[0;32m    625\u001b[0m \u001b[1;33m\u001b[0m\u001b[0m\n\u001b[0;32m    626\u001b[0m     \u001b[1;32mdef\u001b[0m \u001b[0m_get_loc\u001b[0m\u001b[1;33m(\u001b[0m\u001b[0mself\u001b[0m\u001b[1;33m,\u001b[0m \u001b[0mkey\u001b[0m\u001b[1;33m:\u001b[0m \u001b[0mint\u001b[0m\u001b[1;33m,\u001b[0m \u001b[0maxis\u001b[0m\u001b[1;33m:\u001b[0m \u001b[0mint\u001b[0m\u001b[1;33m)\u001b[0m\u001b[1;33m:\u001b[0m\u001b[1;33m\u001b[0m\u001b[1;33m\u001b[0m\u001b[0m\n",
      "\u001b[1;32m~\\AppData\\Roaming\\Python\\Python37\\site-packages\\pandas\\core\\generic.py\u001b[0m in \u001b[0;36mxs\u001b[1;34m(self, key, axis, level, drop_level)\u001b[0m\n\u001b[0;32m   3535\u001b[0m             \u001b[0mloc\u001b[0m\u001b[1;33m,\u001b[0m \u001b[0mnew_index\u001b[0m \u001b[1;33m=\u001b[0m \u001b[0mself\u001b[0m\u001b[1;33m.\u001b[0m\u001b[0mindex\u001b[0m\u001b[1;33m.\u001b[0m\u001b[0mget_loc_level\u001b[0m\u001b[1;33m(\u001b[0m\u001b[0mkey\u001b[0m\u001b[1;33m,\u001b[0m \u001b[0mdrop_level\u001b[0m\u001b[1;33m=\u001b[0m\u001b[0mdrop_level\u001b[0m\u001b[1;33m)\u001b[0m\u001b[1;33m\u001b[0m\u001b[1;33m\u001b[0m\u001b[0m\n\u001b[0;32m   3536\u001b[0m         \u001b[1;32melse\u001b[0m\u001b[1;33m:\u001b[0m\u001b[1;33m\u001b[0m\u001b[1;33m\u001b[0m\u001b[0m\n\u001b[1;32m-> 3537\u001b[1;33m             \u001b[0mloc\u001b[0m \u001b[1;33m=\u001b[0m \u001b[0mself\u001b[0m\u001b[1;33m.\u001b[0m\u001b[0mindex\u001b[0m\u001b[1;33m.\u001b[0m\u001b[0mget_loc\u001b[0m\u001b[1;33m(\u001b[0m\u001b[0mkey\u001b[0m\u001b[1;33m)\u001b[0m\u001b[1;33m\u001b[0m\u001b[1;33m\u001b[0m\u001b[0m\n\u001b[0m\u001b[0;32m   3538\u001b[0m \u001b[1;33m\u001b[0m\u001b[0m\n\u001b[0;32m   3539\u001b[0m             \u001b[1;32mif\u001b[0m \u001b[0misinstance\u001b[0m\u001b[1;33m(\u001b[0m\u001b[0mloc\u001b[0m\u001b[1;33m,\u001b[0m \u001b[0mnp\u001b[0m\u001b[1;33m.\u001b[0m\u001b[0mndarray\u001b[0m\u001b[1;33m)\u001b[0m\u001b[1;33m:\u001b[0m\u001b[1;33m\u001b[0m\u001b[1;33m\u001b[0m\u001b[0m\n",
      "\u001b[1;32m~\\AppData\\Roaming\\Python\\Python37\\site-packages\\pandas\\core\\indexes\\base.py\u001b[0m in \u001b[0;36mget_loc\u001b[1;34m(self, key, method, tolerance)\u001b[0m\n\u001b[0;32m   2646\u001b[0m                 \u001b[1;32mreturn\u001b[0m \u001b[0mself\u001b[0m\u001b[1;33m.\u001b[0m\u001b[0m_engine\u001b[0m\u001b[1;33m.\u001b[0m\u001b[0mget_loc\u001b[0m\u001b[1;33m(\u001b[0m\u001b[0mkey\u001b[0m\u001b[1;33m)\u001b[0m\u001b[1;33m\u001b[0m\u001b[1;33m\u001b[0m\u001b[0m\n\u001b[0;32m   2647\u001b[0m             \u001b[1;32mexcept\u001b[0m \u001b[0mKeyError\u001b[0m\u001b[1;33m:\u001b[0m\u001b[1;33m\u001b[0m\u001b[1;33m\u001b[0m\u001b[0m\n\u001b[1;32m-> 2648\u001b[1;33m                 \u001b[1;32mreturn\u001b[0m \u001b[0mself\u001b[0m\u001b[1;33m.\u001b[0m\u001b[0m_engine\u001b[0m\u001b[1;33m.\u001b[0m\u001b[0mget_loc\u001b[0m\u001b[1;33m(\u001b[0m\u001b[0mself\u001b[0m\u001b[1;33m.\u001b[0m\u001b[0m_maybe_cast_indexer\u001b[0m\u001b[1;33m(\u001b[0m\u001b[0mkey\u001b[0m\u001b[1;33m)\u001b[0m\u001b[1;33m)\u001b[0m\u001b[1;33m\u001b[0m\u001b[1;33m\u001b[0m\u001b[0m\n\u001b[0m\u001b[0;32m   2649\u001b[0m         \u001b[0mindexer\u001b[0m \u001b[1;33m=\u001b[0m \u001b[0mself\u001b[0m\u001b[1;33m.\u001b[0m\u001b[0mget_indexer\u001b[0m\u001b[1;33m(\u001b[0m\u001b[1;33m[\u001b[0m\u001b[0mkey\u001b[0m\u001b[1;33m]\u001b[0m\u001b[1;33m,\u001b[0m \u001b[0mmethod\u001b[0m\u001b[1;33m=\u001b[0m\u001b[0mmethod\u001b[0m\u001b[1;33m,\u001b[0m \u001b[0mtolerance\u001b[0m\u001b[1;33m=\u001b[0m\u001b[0mtolerance\u001b[0m\u001b[1;33m)\u001b[0m\u001b[1;33m\u001b[0m\u001b[1;33m\u001b[0m\u001b[0m\n\u001b[0;32m   2650\u001b[0m         \u001b[1;32mif\u001b[0m \u001b[0mindexer\u001b[0m\u001b[1;33m.\u001b[0m\u001b[0mndim\u001b[0m \u001b[1;33m>\u001b[0m \u001b[1;36m1\u001b[0m \u001b[1;32mor\u001b[0m \u001b[0mindexer\u001b[0m\u001b[1;33m.\u001b[0m\u001b[0msize\u001b[0m \u001b[1;33m>\u001b[0m \u001b[1;36m1\u001b[0m\u001b[1;33m:\u001b[0m\u001b[1;33m\u001b[0m\u001b[1;33m\u001b[0m\u001b[0m\n",
      "\u001b[1;32mpandas\\_libs\\index.pyx\u001b[0m in \u001b[0;36mpandas._libs.index.IndexEngine.get_loc\u001b[1;34m()\u001b[0m\n",
      "\u001b[1;32mpandas\\_libs\\index.pyx\u001b[0m in \u001b[0;36mpandas._libs.index.IndexEngine.get_loc\u001b[1;34m()\u001b[0m\n",
      "\u001b[1;32mpandas\\_libs\\index.pyx\u001b[0m in \u001b[0;36mpandas._libs.index.IndexEngine._get_loc_duplicates\u001b[1;34m()\u001b[0m\n",
      "\u001b[1;32mpandas\\_libs\\index.pyx\u001b[0m in \u001b[0;36mpandas._libs.index.IndexEngine._maybe_get_bool_indexer\u001b[1;34m()\u001b[0m\n",
      "\u001b[1;31mKeyError\u001b[0m: nan"
     ]
    }
   ],
   "source": [
    "#获取作者以及相关作者，将其整合到一个列表中\n",
    "all_authors = []\n",
    "for authors in frame['作者']:\n",
    "    for author in authors:\n",
    "        if author not in all_authors:\n",
    "            all_authors.append(author)\n",
    "for r_authors in frame['相关作者']:\n",
    "    if r_authors is not np.nan:\n",
    "        for r_author in r_authors:\n",
    "            if r_author not in all_authors:\n",
    "                all_authors.append(r_author) \n",
    "                \n",
    "#构建出现矩阵\n",
    "df = pd.DataFrame(index=frame['题目'],columns=all_authors)\n",
    "df.index.name='题目'\n",
    "df.columns.name='作者'\n",
    "for title in frame['题目']:\n",
    "    for i in frame.loc[title]['作者']:\n",
    "        df.loc[title,i] = 1\n",
    "    if frame.loc[title]['相关作者'] is not np.nan:\n",
    "        for j in frame.loc[title]['相关作者']:\n",
    "            df.loc[title,j] = 1\n",
    "df=df.fillna(0) \n",
    "#将出现矩阵转换为共现矩阵\n",
    "data = df.values.T.dot(df.values)\n",
    "df2 = pd.DataFrame(data = data,index=all_authors,columns=all_authors)\n",
    "\n",
    "#设置阀门，排除关联度小的点\n",
    "valve = lambda x : x if x > 32 else 0\n",
    "df2 = df2.applymap(valve)\n",
    "\n",
    "#构建共现网络\n",
    "net = nx.Graph(df2)"
   ]
  },
  {
   "cell_type": "code",
   "execution_count": 28,
   "metadata": {
    "ExecuteTime": {
     "end_time": "2020-08-28T14:04:41.565379Z",
     "start_time": "2020-08-28T14:04:41.332320Z"
    }
   },
   "outputs": [
    {
     "ename": "NodeNotFound",
     "evalue": "Either source 朱文晶 or target 高昀 is not in G",
     "output_type": "error",
     "traceback": [
      "\u001b[1;31m---------------------------------------------------------------------------\u001b[0m",
      "\u001b[1;31mNodeNotFound\u001b[0m                              Traceback (most recent call last)",
      "\u001b[1;32m<ipython-input-28-c5823f82c39b>\u001b[0m in \u001b[0;36m<module>\u001b[1;34m\u001b[0m\n\u001b[0;32m     10\u001b[0m \u001b[0mdele\u001b[0m\u001b[1;33m=\u001b[0m\u001b[1;33m[\u001b[0m\u001b[1;33m]\u001b[0m\u001b[1;33m\u001b[0m\u001b[1;33m\u001b[0m\u001b[0m\n\u001b[0;32m     11\u001b[0m \u001b[1;32mfor\u001b[0m \u001b[0mi\u001b[0m \u001b[1;32min\u001b[0m \u001b[0mrange\u001b[0m\u001b[1;33m(\u001b[0m\u001b[0mlen\u001b[0m\u001b[1;33m(\u001b[0m\u001b[0mall_authors\u001b[0m\u001b[1;33m)\u001b[0m\u001b[1;33m)\u001b[0m\u001b[1;33m:\u001b[0m\u001b[1;33m\u001b[0m\u001b[1;33m\u001b[0m\u001b[0m\n\u001b[1;32m---> 12\u001b[1;33m     \u001b[1;32mif\u001b[0m \u001b[1;32mnot\u001b[0m \u001b[0mcheck\u001b[0m\u001b[1;33m(\u001b[0m\u001b[0mall_authors\u001b[0m\u001b[1;33m[\u001b[0m\u001b[0mi\u001b[0m\u001b[1;33m]\u001b[0m\u001b[1;33m,\u001b[0m\u001b[0mnet\u001b[0m\u001b[1;33m)\u001b[0m\u001b[1;33m:\u001b[0m\u001b[1;33m\u001b[0m\u001b[1;33m\u001b[0m\u001b[0m\n\u001b[0m\u001b[0;32m     13\u001b[0m         \u001b[1;32mif\u001b[0m \u001b[0mall_authors\u001b[0m\u001b[1;33m[\u001b[0m\u001b[0mi\u001b[0m\u001b[1;33m]\u001b[0m \u001b[1;32mnot\u001b[0m \u001b[1;32min\u001b[0m \u001b[0mdele\u001b[0m\u001b[1;33m:\u001b[0m\u001b[1;33m\u001b[0m\u001b[1;33m\u001b[0m\u001b[0m\n\u001b[0;32m     14\u001b[0m             \u001b[0mdele\u001b[0m\u001b[1;33m.\u001b[0m\u001b[0mappend\u001b[0m\u001b[1;33m(\u001b[0m\u001b[0mall_authors\u001b[0m\u001b[1;33m[\u001b[0m\u001b[0mi\u001b[0m\u001b[1;33m]\u001b[0m\u001b[1;33m)\u001b[0m\u001b[1;33m\u001b[0m\u001b[1;33m\u001b[0m\u001b[0m\n",
      "\u001b[1;32m<ipython-input-28-c5823f82c39b>\u001b[0m in \u001b[0;36mcheck\u001b[1;34m(x, net)\u001b[0m\n\u001b[0;32m      5\u001b[0m             \u001b[1;32mreturn\u001b[0m \u001b[1;32mTrue\u001b[0m\u001b[1;33m\u001b[0m\u001b[1;33m\u001b[0m\u001b[0m\n\u001b[0;32m      6\u001b[0m     \u001b[1;32mfor\u001b[0m \u001b[0mj\u001b[0m \u001b[1;32min\u001b[0m \u001b[0mrange\u001b[0m\u001b[1;33m(\u001b[0m\u001b[0mall_authors\u001b[0m\u001b[1;33m.\u001b[0m\u001b[0mindex\u001b[0m\u001b[1;33m(\u001b[0m\u001b[0mx\u001b[0m\u001b[1;33m)\u001b[0m\u001b[1;33m+\u001b[0m\u001b[1;36m1\u001b[0m\u001b[1;33m,\u001b[0m\u001b[0mlen\u001b[0m\u001b[1;33m(\u001b[0m\u001b[0mall_authors\u001b[0m\u001b[1;33m)\u001b[0m\u001b[1;33m)\u001b[0m\u001b[1;33m:\u001b[0m\u001b[1;33m\u001b[0m\u001b[1;33m\u001b[0m\u001b[0m\n\u001b[1;32m----> 7\u001b[1;33m         \u001b[1;32mif\u001b[0m \u001b[0mnx\u001b[0m\u001b[1;33m.\u001b[0m\u001b[0mhas_path\u001b[0m\u001b[1;33m(\u001b[0m\u001b[0mnet\u001b[0m\u001b[1;33m,\u001b[0m\u001b[0mx\u001b[0m\u001b[1;33m,\u001b[0m\u001b[0mall_authors\u001b[0m\u001b[1;33m[\u001b[0m\u001b[0mj\u001b[0m\u001b[1;33m]\u001b[0m\u001b[1;33m)\u001b[0m\u001b[1;33m:\u001b[0m\u001b[1;33m\u001b[0m\u001b[1;33m\u001b[0m\u001b[0m\n\u001b[0m\u001b[0;32m      8\u001b[0m             \u001b[1;32mreturn\u001b[0m \u001b[1;32mTrue\u001b[0m\u001b[1;33m\u001b[0m\u001b[1;33m\u001b[0m\u001b[0m\n\u001b[0;32m      9\u001b[0m     \u001b[1;32mreturn\u001b[0m \u001b[1;32mFalse\u001b[0m\u001b[1;33m\u001b[0m\u001b[1;33m\u001b[0m\u001b[0m\n",
      "\u001b[1;32mE:\\Anaconda3\\lib\\site-packages\\networkx\\algorithms\\shortest_paths\\generic.py\u001b[0m in \u001b[0;36mhas_path\u001b[1;34m(G, source, target)\u001b[0m\n\u001b[0;32m     38\u001b[0m     \"\"\"\n\u001b[0;32m     39\u001b[0m     \u001b[1;32mtry\u001b[0m\u001b[1;33m:\u001b[0m\u001b[1;33m\u001b[0m\u001b[1;33m\u001b[0m\u001b[0m\n\u001b[1;32m---> 40\u001b[1;33m         \u001b[0mnx\u001b[0m\u001b[1;33m.\u001b[0m\u001b[0mshortest_path\u001b[0m\u001b[1;33m(\u001b[0m\u001b[0mG\u001b[0m\u001b[1;33m,\u001b[0m \u001b[0msource\u001b[0m\u001b[1;33m,\u001b[0m \u001b[0mtarget\u001b[0m\u001b[1;33m)\u001b[0m\u001b[1;33m\u001b[0m\u001b[1;33m\u001b[0m\u001b[0m\n\u001b[0m\u001b[0;32m     41\u001b[0m     \u001b[1;32mexcept\u001b[0m \u001b[0mnx\u001b[0m\u001b[1;33m.\u001b[0m\u001b[0mNetworkXNoPath\u001b[0m\u001b[1;33m:\u001b[0m\u001b[1;33m\u001b[0m\u001b[1;33m\u001b[0m\u001b[0m\n\u001b[0;32m     42\u001b[0m         \u001b[1;32mreturn\u001b[0m \u001b[1;32mFalse\u001b[0m\u001b[1;33m\u001b[0m\u001b[1;33m\u001b[0m\u001b[0m\n",
      "\u001b[1;32mE:\\Anaconda3\\lib\\site-packages\\networkx\\algorithms\\shortest_paths\\generic.py\u001b[0m in \u001b[0;36mshortest_path\u001b[1;34m(G, source, target, weight, method)\u001b[0m\n\u001b[0;32m    168\u001b[0m             \u001b[1;31m# Find shortest source-target path.\u001b[0m\u001b[1;33m\u001b[0m\u001b[1;33m\u001b[0m\u001b[1;33m\u001b[0m\u001b[0m\n\u001b[0;32m    169\u001b[0m             \u001b[1;32mif\u001b[0m \u001b[0mmethod\u001b[0m \u001b[1;33m==\u001b[0m \u001b[1;34m'unweighted'\u001b[0m\u001b[1;33m:\u001b[0m\u001b[1;33m\u001b[0m\u001b[1;33m\u001b[0m\u001b[0m\n\u001b[1;32m--> 170\u001b[1;33m                 \u001b[0mpaths\u001b[0m \u001b[1;33m=\u001b[0m \u001b[0mnx\u001b[0m\u001b[1;33m.\u001b[0m\u001b[0mbidirectional_shortest_path\u001b[0m\u001b[1;33m(\u001b[0m\u001b[0mG\u001b[0m\u001b[1;33m,\u001b[0m \u001b[0msource\u001b[0m\u001b[1;33m,\u001b[0m \u001b[0mtarget\u001b[0m\u001b[1;33m)\u001b[0m\u001b[1;33m\u001b[0m\u001b[1;33m\u001b[0m\u001b[0m\n\u001b[0m\u001b[0;32m    171\u001b[0m             \u001b[1;32melif\u001b[0m \u001b[0mmethod\u001b[0m \u001b[1;33m==\u001b[0m \u001b[1;34m'dijkstra'\u001b[0m\u001b[1;33m:\u001b[0m\u001b[1;33m\u001b[0m\u001b[1;33m\u001b[0m\u001b[0m\n\u001b[0;32m    172\u001b[0m                 \u001b[0mpaths\u001b[0m \u001b[1;33m=\u001b[0m \u001b[0mnx\u001b[0m\u001b[1;33m.\u001b[0m\u001b[0mdijkstra_path\u001b[0m\u001b[1;33m(\u001b[0m\u001b[0mG\u001b[0m\u001b[1;33m,\u001b[0m \u001b[0msource\u001b[0m\u001b[1;33m,\u001b[0m \u001b[0mtarget\u001b[0m\u001b[1;33m,\u001b[0m \u001b[0mweight\u001b[0m\u001b[1;33m)\u001b[0m\u001b[1;33m\u001b[0m\u001b[1;33m\u001b[0m\u001b[0m\n",
      "\u001b[1;32mE:\\Anaconda3\\lib\\site-packages\\networkx\\algorithms\\shortest_paths\\unweighted.py\u001b[0m in \u001b[0;36mbidirectional_shortest_path\u001b[1;34m(G, source, target)\u001b[0m\n\u001b[0;32m    221\u001b[0m     \u001b[1;32mif\u001b[0m \u001b[0msource\u001b[0m \u001b[1;32mnot\u001b[0m \u001b[1;32min\u001b[0m \u001b[0mG\u001b[0m \u001b[1;32mor\u001b[0m \u001b[0mtarget\u001b[0m \u001b[1;32mnot\u001b[0m \u001b[1;32min\u001b[0m \u001b[0mG\u001b[0m\u001b[1;33m:\u001b[0m\u001b[1;33m\u001b[0m\u001b[1;33m\u001b[0m\u001b[0m\n\u001b[0;32m    222\u001b[0m         \u001b[0mmsg\u001b[0m \u001b[1;33m=\u001b[0m \u001b[1;34m'Either source {} or target {} is not in G'\u001b[0m\u001b[1;33m\u001b[0m\u001b[1;33m\u001b[0m\u001b[0m\n\u001b[1;32m--> 223\u001b[1;33m         \u001b[1;32mraise\u001b[0m \u001b[0mnx\u001b[0m\u001b[1;33m.\u001b[0m\u001b[0mNodeNotFound\u001b[0m\u001b[1;33m(\u001b[0m\u001b[0mmsg\u001b[0m\u001b[1;33m.\u001b[0m\u001b[0mformat\u001b[0m\u001b[1;33m(\u001b[0m\u001b[0msource\u001b[0m\u001b[1;33m,\u001b[0m \u001b[0mtarget\u001b[0m\u001b[1;33m)\u001b[0m\u001b[1;33m)\u001b[0m\u001b[1;33m\u001b[0m\u001b[1;33m\u001b[0m\u001b[0m\n\u001b[0m\u001b[0;32m    224\u001b[0m \u001b[1;33m\u001b[0m\u001b[0m\n\u001b[0;32m    225\u001b[0m     \u001b[1;31m# call helper to do the real work\u001b[0m\u001b[1;33m\u001b[0m\u001b[1;33m\u001b[0m\u001b[1;33m\u001b[0m\u001b[0m\n",
      "\u001b[1;31mNodeNotFound\u001b[0m: Either source 朱文晶 or target 高昀 is not in G"
     ]
    }
   ],
   "source": [
    "#过滤关联度为0的节点\n",
    "def check(x,net):\n",
    "    for i in range(0,all_authors.index(x)):\n",
    "        if nx.has_path(net,x,all_authors[i]):\n",
    "            return True\n",
    "    for j in range(all_authors.index(x)+1,len(all_authors)):\n",
    "        if nx.has_path(net,x,all_authors[j]):\n",
    "            return True\n",
    "    return False\n",
    "dele=[]\n",
    "for i in range(len(all_authors)):\n",
    "    if not check(all_authors[i],net):\n",
    "        if all_authors[i] not in dele:\n",
    "            dele.append(all_authors[i])\n",
    "net.remove_nodes_from(dele)\n",
    "\n",
    "#设置每个节点的大小比例为它们度的大小比例，并且显示每个节点的标签\n",
    "de=dict(net.degree())\n",
    "pos = nx.spring_layout(net)\n",
    "all_authors = [i for i in all_authors if i not in dele]\n",
    "array = np.zeros(len(all_authors))\n",
    "j = 0\n",
    "for i in de.keys():\n",
    "    array[j] = de[i]\n",
    "    j+=1\n",
    "arg = np.argsort(-np.array(array))\n",
    "labels = {}\n",
    "for index in range(len(all_authors)):\n",
    "    labels[all_authors[arg[index]]] = all_authors[arg[index]]\n",
    "de2 = [de[v]*20 for v in sorted(de.keys(), reverse=False)]\n",
    "\n",
    "#对网路进行可视化\n",
    "plt.figure(figsize=(50, 50))\n",
    "nx.draw_networkx_labels(net,pos,labels, font_size=40,font_color='black',font_family ='YouYuan')\n",
    "nx.draw_networkx(net, pos, node_size=de2, with_labels = False, node_color='#A52A2A', linewidths=None, width=1.0, edge_color ='#858585')"
   ]
  },
  {
   "cell_type": "code",
   "execution_count": null,
   "metadata": {},
   "outputs": [],
   "source": []
  },
  {
   "cell_type": "code",
   "execution_count": 29,
   "metadata": {
    "ExecuteTime": {
     "end_time": "2020-08-28T14:06:52.351034Z",
     "start_time": "2020-08-28T14:06:51.967110Z"
    }
   },
   "outputs": [
    {
     "ename": "AttributeError",
     "evalue": "module 'network' has no attribute 'seperate'",
     "output_type": "error",
     "traceback": [
      "\u001b[1;31m---------------------------------------------------------------------------\u001b[0m",
      "\u001b[1;31mAttributeError\u001b[0m                            Traceback (most recent call last)",
      "\u001b[1;32m<ipython-input-29-27f7505e8016>\u001b[0m in \u001b[0;36m<module>\u001b[1;34m\u001b[0m\n\u001b[0;32m     11\u001b[0m \u001b[0mframe\u001b[0m \u001b[1;33m=\u001b[0m \u001b[0mreadf\u001b[0m\u001b[1;33m[\u001b[0m\u001b[0mreadf\u001b[0m\u001b[1;33m[\u001b[0m\u001b[1;34m'关键词'\u001b[0m\u001b[1;33m]\u001b[0m\u001b[1;33m.\u001b[0m\u001b[0mnotnull\u001b[0m\u001b[1;33m(\u001b[0m\u001b[1;33m)\u001b[0m\u001b[1;33m]\u001b[0m\u001b[1;31m#如果关键词那一列非空，读取所有数据\u001b[0m\u001b[1;33m\u001b[0m\u001b[1;33m\u001b[0m\u001b[0m\n\u001b[0;32m     12\u001b[0m \u001b[1;33m\u001b[0m\u001b[0m\n\u001b[1;32m---> 13\u001b[1;33m \u001b[0mkeywords\u001b[0m \u001b[1;33m=\u001b[0m \u001b[0mnetwork\u001b[0m\u001b[1;33m.\u001b[0m\u001b[0mseperate\u001b[0m\u001b[1;33m(\u001b[0m\u001b[0mframe\u001b[0m\u001b[1;33m,\u001b[0m \u001b[1;34m'关键词'\u001b[0m\u001b[1;33m,\u001b[0m \u001b[1;34m' '\u001b[0m\u001b[1;33m,\u001b[0m \u001b[1;34m';'\u001b[0m\u001b[1;33m)\u001b[0m\u001b[1;31m#关键词列表，里面记录了所有的关键词，没有重复\u001b[0m\u001b[1;33m\u001b[0m\u001b[1;33m\u001b[0m\u001b[0m\n\u001b[0m",
      "\u001b[1;31mAttributeError\u001b[0m: module 'network' has no attribute 'seperate'"
     ]
    }
   ],
   "source": [
    "import os\n",
    "import networkx as nx#复杂网络分析库\n",
    "import network\n",
    "import pandas as pd\n",
    "import numpy as np\n",
    "import matplotlib.pyplot as plt\n",
    "\n",
    "path = os.path.abspath('G:/CDO/知网研学/CNKI-analysis-master/dependence/')\n",
    "xls = pd.ExcelFile(path+'/知网数据.xls')#读取xls表格\n",
    "readf = pd.read_excel(xls,'Sheet1')#读取第一个表\n",
    "frame = readf[readf['关键词'].notnull()]#如果关键词那一列非空，读取所有数据\n",
    "\n",
    "keywords = network.seperate(frame, '关键词', ' ', ';')#关键词列表，里面记录了所有的关键词，没有重复"
   ]
  },
  {
   "cell_type": "code",
   "execution_count": 30,
   "metadata": {
    "ExecuteTime": {
     "end_time": "2020-08-28T14:11:27.355784Z",
     "start_time": "2020-08-28T14:11:27.197753Z"
    }
   },
   "outputs": [
    {
     "ename": "AttributeError",
     "evalue": "module 'network' has no attribute 'fill'",
     "output_type": "error",
     "traceback": [
      "\u001b[1;31m---------------------------------------------------------------------------\u001b[0m",
      "\u001b[1;31mAttributeError\u001b[0m                            Traceback (most recent call last)",
      "\u001b[1;32m<ipython-input-30-e6f402cb43fa>\u001b[0m in \u001b[0;36m<module>\u001b[1;34m\u001b[0m\n\u001b[0;32m     15\u001b[0m \u001b[1;31m#\u001b[0m\u001b[1;33m\u001b[0m\u001b[1;33m\u001b[0m\u001b[1;33m\u001b[0m\u001b[0m\n\u001b[0;32m     16\u001b[0m \u001b[1;31m# df = df.fillna(0)#填充空值\u001b[0m\u001b[1;33m\u001b[0m\u001b[1;33m\u001b[0m\u001b[1;33m\u001b[0m\u001b[0m\n\u001b[1;32m---> 17\u001b[1;33m \u001b[0mdf\u001b[0m \u001b[1;33m=\u001b[0m \u001b[0mnetwork\u001b[0m\u001b[1;33m.\u001b[0m\u001b[0mfill\u001b[0m\u001b[1;33m(\u001b[0m\u001b[0mframe\u001b[0m\u001b[1;33m,\u001b[0m \u001b[1;34m'序号'\u001b[0m\u001b[1;33m,\u001b[0m \u001b[1;34m'关键词'\u001b[0m\u001b[1;33m,\u001b[0m \u001b[0mdf\u001b[0m\u001b[1;33m)\u001b[0m\u001b[1;33m\u001b[0m\u001b[1;33m\u001b[0m\u001b[0m\n\u001b[0m\u001b[0;32m     18\u001b[0m \u001b[1;33m\u001b[0m\u001b[0m\n\u001b[0;32m     19\u001b[0m \u001b[0mdata\u001b[0m \u001b[1;33m=\u001b[0m \u001b[0mdf\u001b[0m\u001b[1;33m.\u001b[0m\u001b[0mvalues\u001b[0m\u001b[1;33m.\u001b[0m\u001b[0mT\u001b[0m\u001b[1;33m.\u001b[0m\u001b[0mdot\u001b[0m\u001b[1;33m(\u001b[0m\u001b[0mdf\u001b[0m\u001b[1;33m.\u001b[0m\u001b[0mvalues\u001b[0m\u001b[1;33m)\u001b[0m\u001b[1;31m#建立关键词之间的相关性，边的长度为相关性，在这里是将两个df点乘，df.values是按行读取值\u001b[0m\u001b[1;33m\u001b[0m\u001b[1;33m\u001b[0m\u001b[0m\n",
      "\u001b[1;31mAttributeError\u001b[0m: module 'network' has no attribute 'fill'"
     ]
    }
   ],
   "source": [
    "#建立以标题为行，关键词为列的DataFrame矩阵\n",
    "df = pd.DataFrame(index=frame['序号'],columns=keywords)\n",
    "df.index.name='序号'\n",
    "df.columns.name='关键词'\n",
    "\n",
    "# for row in frame['序号']:#将这一篇文献所拥有的关键词在矩阵中标记为1\n",
    "#     for keyword in df.columns:\n",
    "#         if keyword in frame.loc[row]['关键词']:\n",
    "#             #print(keyword)\n",
    "#             df.loc[row][keyword] = 1\n",
    "#\n",
    "# #df为存在矩阵，dataframe类型\n",
    "# #data为关联度，矩阵类型\n",
    "# #df2位关联度矩阵，dataframe类型\n",
    "#\n",
    "# df = df.fillna(0)#填充空值\n",
    "df = network.fill(frame, '序号', '关键词', df)\n",
    "\n",
    "data = df.values.T.dot(df.values)#建立关键词之间的相关性，边的长度为相关性，在这里是将两个df点乘，df.values是按行读取值\n",
    "\n",
    "df2 = pd.DataFrame(data = data,index=keywords,columns=keywords)#建立关键词之间的相关性矩阵\n",
    "\n",
    "#设置阈值\n",
    "valve = lambda x : x if x > 32 else 0\n",
    "df2 = df2.applymap(valve)\n",
    "\n",
    "net = nx.Graph(df2)#创建无向图，以关键词为节点，相关性为边\n",
    "\n",
    "# def check(x,net):\n",
    "#     for i in range(0,keywords.index(x)):\n",
    "#         if nx.has_path(net,x,keywords[i]):\n",
    "#             return True\n",
    "#     for j in range(keywords.index(x)+1,len(keywords)):\n",
    "#         if nx.has_path(net,x,keywords[j]):\n",
    "#             return True\n",
    "#     return False\n",
    "#\n",
    "# #去除无连接节点\n",
    "# dele=[]\n",
    "# for i in range(len(keywords)):\n",
    "#     if not check(keywords[i],net):\n",
    "#         if keywords[i] not in dele:\n",
    "#             dele.append(keywords[i])\n",
    "# net.remove_nodes_from(dele)\n",
    "dele, net = network.remove(keywords, net)\n",
    "\n",
    "de=dict(net.degree())#建立字典，关键字为索引，度（关联情况）为值\n",
    "pos = nx.spring_layout(net)#四种建图模式，spectral,shell,circular,spring，spring是可以看的了\n",
    "keywords = [i for i in keywords if i not in dele]#有边的关键词\n",
    "\n",
    "array = np.zeros(len(keywords))#建立以度为值的一维矩阵\n",
    "arg = np.argsort(-np.array(array))\n",
    "labels = {}#记录关键词\n",
    "for index in range(0, len(keywords)):\n",
    "    labels[keywords[arg[index]]] = keywords[arg[index]]\n",
    "\n",
    "de2 = [de[v]*60 for v in sorted(de.keys(), reverse=False)]#应该是节点的大小，尺寸调整合适\n",
    "\n",
    "plt.figure(figsize=(50, 50))\n",
    "nx.draw_networkx_labels(net,pos,labels, font_size=40,font_color='black',font_family ='YouYuan')\n",
    "nx.draw_networkx(net, pos, node_size=de2, with_labels = False, node_color='#A52A2A', linewidths=None, width=2.0, edge_color ='#858585')"
   ]
  },
  {
   "cell_type": "code",
   "execution_count": null,
   "metadata": {},
   "outputs": [],
   "source": []
  }
 ],
 "metadata": {
  "kernelspec": {
   "display_name": "Python 3",
   "language": "python",
   "name": "python3"
  },
  "language_info": {
   "codemirror_mode": {
    "name": "ipython",
    "version": 3
   },
   "file_extension": ".py",
   "mimetype": "text/x-python",
   "name": "python",
   "nbconvert_exporter": "python",
   "pygments_lexer": "ipython3",
   "version": "3.7.6"
  },
  "latex_envs": {
   "LaTeX_envs_menu_present": true,
   "autoclose": false,
   "autocomplete": true,
   "bibliofile": "biblio.bib",
   "cite_by": "apalike",
   "current_citInitial": 1,
   "eqLabelWithNumbers": true,
   "eqNumInitial": 1,
   "hotkeys": {
    "equation": "Ctrl-E",
    "itemize": "Ctrl-I"
   },
   "labels_anchors": false,
   "latex_user_defs": false,
   "report_style_numbering": false,
   "user_envs_cfg": false
  },
  "nbTranslate": {
   "displayLangs": [
    "*"
   ],
   "hotkey": "alt-t",
   "langInMainMenu": true,
   "sourceLang": "en",
   "targetLang": "fr",
   "useGoogleTranslate": true
  },
  "toc": {
   "base_numbering": 1,
   "nav_menu": {},
   "number_sections": true,
   "sideBar": true,
   "skip_h1_title": false,
   "title_cell": "Table of Contents",
   "title_sidebar": "Contents",
   "toc_cell": false,
   "toc_position": {},
   "toc_section_display": true,
   "toc_window_display": false
  }
 },
 "nbformat": 4,
 "nbformat_minor": 2
}
